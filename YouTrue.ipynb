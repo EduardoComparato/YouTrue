{
  "nbformat": 4,
  "nbformat_minor": 0,
  "metadata": {
    "colab": {
      "provenance": [],
      "authorship_tag": "ABX9TyP83NppWMD0BZD8jTmI/YXy",
      "include_colab_link": true
    },
    "kernelspec": {
      "name": "python3",
      "display_name": "Python 3"
    },
    "language_info": {
      "name": "python"
    }
  },
  "cells": [
    {
      "cell_type": "markdown",
      "metadata": {
        "id": "view-in-github",
        "colab_type": "text"
      },
      "source": [
        "<a href=\"https://colab.research.google.com/github/EduardoComparato/YouTrue/blob/main/YouTrue.ipynb\" target=\"_parent\"><img src=\"https://colab.research.google.com/assets/colab-badge.svg\" alt=\"Open In Colab\"/></a>"
      ]
    },
    {
      "cell_type": "code",
      "execution_count": 247,
      "metadata": {
        "id": "GTXsaAi1zlAM"
      },
      "outputs": [],
      "source": [
        "%pip -q install google-genai\n",
        "\n"
      ]
    },
    {
      "cell_type": "code",
      "source": [
        "# Instalação pacote do Youtube Transcript\n",
        "%pip -q install youtube-transcript-api"
      ],
      "metadata": {
        "id": "C1XMwPZNfsHa"
      },
      "execution_count": 248,
      "outputs": []
    },
    {
      "cell_type": "code",
      "source": [
        "# Configura a API Key do Google Gemini\n",
        "\n",
        "import os\n",
        "from google.colab import userdata\n",
        "\n",
        "os.environ[\"GOOGLE_API_KEY\"] = userdata.get('GOOGLE_API_KEY')"
      ],
      "metadata": {
        "id": "vn53kDAvLbMV"
      },
      "execution_count": 249,
      "outputs": []
    },
    {
      "cell_type": "code",
      "source": [
        "# Configura API Key do Youtube\n",
        "from googleapiclient.discovery import build\n",
        "\n",
        "YOUTUBE_API_KEY = userdata.get(\"YOUTUBE_API_KEY\")\n",
        "\n",
        "youtube = build('youtube', 'v3', developerKey=YOUTUBE_API_KEY)"
      ],
      "metadata": {
        "id": "Y_7xo5ZPrpoC"
      },
      "execution_count": 250,
      "outputs": []
    },
    {
      "cell_type": "code",
      "source": [
        "# Configura o cliente da SDK do Gemini\n",
        "\n",
        "from google import genai\n",
        "\n",
        "client = genai.Client()\n",
        "\n",
        "MODEL_ID = \"gemini-2.0-flash\""
      ],
      "metadata": {
        "id": "2zn9rHFWLj8f"
      },
      "execution_count": 251,
      "outputs": []
    },
    {
      "cell_type": "code",
      "source": [
        "# Pergunta ao Gemini uma informação mais recente que seu conhecimento\n",
        "\n",
        "from IPython.display import HTML, Markdown"
      ],
      "metadata": {
        "id": "jOux1E1ZLr-8"
      },
      "execution_count": 252,
      "outputs": []
    },
    {
      "cell_type": "code",
      "source": [
        "# Instalar Framework de agentes do Google ################################################\n",
        "!pip install -q google-adk"
      ],
      "metadata": {
        "id": "_iSxkyJ2L0Yy"
      },
      "execution_count": 253,
      "outputs": []
    },
    {
      "cell_type": "code",
      "source": [
        "from google.adk.agents import Agent\n",
        "from google.adk.runners import Runner\n",
        "from google.adk.sessions import InMemorySessionService\n",
        "from google.adk.tools import google_search\n",
        "from google.genai import types  # Para criar conteúdos (Content e Part)\n",
        "from datetime import date\n",
        "import textwrap # Para formatar melhor a saída de texto\n",
        "from IPython.display import display, Markdown # Para exibir texto formatado no Colab\n",
        "import requests # Para fazer requisições HTTP\n",
        "import warnings\n",
        "\n",
        "warnings.filterwarnings(\"ignore\")"
      ],
      "metadata": {
        "id": "6jHXDRQ6MM-0"
      },
      "execution_count": 254,
      "outputs": []
    },
    {
      "cell_type": "code",
      "source": [
        "import uuid\n",
        "from typing import Optional\n",
        "\n",
        "# Função auxiliar que envia uma mensagem para um agente via Runner e retorna a resposta final\n",
        "def call_agent(agent: Agent, message_text: str, user_id: Optional[str] = None, session_id: Optional[str] = None) -> str:\n",
        "    # Cria um serviço de sessão em memória\n",
        "    session_service = InMemorySessionService()\n",
        "\n",
        "    # Gera user_id e session_id se não forem fornecidos\n",
        "    user_id_to_use = user_id if user_id else str(uuid.uuid4())\n",
        "    session_id_to_use = session_id if session_id else str(uuid.uuid4())\n",
        "    # Cria uma nova sessão (você pode personalizar os IDs conforme necessário)\n",
        "    session = session_service.create_session(app_name=agent.name, user_id=user_id_to_use, session_id=session_id_to_use)\n",
        "    # Cria um Runner para o agente\n",
        "    runner = Runner(agent=agent, app_name=agent.name, session_service=session_service)\n",
        "    # Cria o conteúdo da mensagem de entrada\n",
        "    content = types.Content(role=\"user\", parts=[types.Part(text=message_text)])\n",
        "\n",
        "    final_response = \"\"\n",
        "    # Itera assincronamente pelos eventos retornados durante a execução do agente\n",
        "    for event in runner.run(user_id=user_id_to_use, session_id=session_id_to_use, new_message=content):\n",
        "        if event.is_final_response():\n",
        "          if event.content is not None:\n",
        "            for part in event.content.parts:\n",
        "              if part.text is not None:\n",
        "               final_response += part.text\n",
        "               final_response += \"\\n\"\n",
        "    return final_response"
      ],
      "metadata": {
        "id": "TatLDC0VMXuy"
      },
      "execution_count": 255,
      "outputs": []
    },
    {
      "cell_type": "code",
      "source": [
        "def to_markdown(text):\n",
        "  text = text.replace('•', '  *')\n",
        "  return Markdown(textwrap.indent(text, '> ', predicate=lambda _: True))"
      ],
      "metadata": {
        "id": "rPUgQ8EeO0KJ"
      },
      "execution_count": 256,
      "outputs": []
    },
    {
      "cell_type": "code",
      "source": [
        "##########################################\n",
        "# --- Transcritor de Vídeos --- #\n",
        "##########################################\n",
        "def API_transcritor(ID_digitado):\n",
        "    try:\n",
        "        from youtube_transcript_api import YouTubeTranscriptApi, NoTranscriptFound, TranscriptsDisabled\n",
        "\n",
        "        ytt_api = YouTubeTranscriptApi()\n",
        "        transcricao = ytt_api.fetch(ID_digitado, languages=['pt-BR', 'en-US', 'pt'])\n",
        "\n",
        "        return transcricao\n",
        "    except NoTranscriptFound:\n",
        "        print(f\"No transcript found for video ID: {ID_digitado} in the specified languages or any other language.\")\n",
        "        return None\n",
        "    except TranscriptsDisabled:\n",
        "        print(f\"Transcripts are disabled for video ID: {ID_digitado}.\")\n",
        "        return None\n",
        "    except Exception as e:\n",
        "        print(f\"An error occurred while fetching the transcript for video ID {ID_digitado}: {e}\")\n",
        "        return None\n",
        "    except TranscriptsDisabled:\n",
        "        print(f\"Transcripts are disabled for video ID: {ID_digitado}.\")\n",
        "        return None\n",
        "    except Exception as e:\n",
        "        print(f\"An error occurred while fetching the transcript for video ID {ID_digitado}: {e}\")\n",
        "        return None"
      ],
      "metadata": {
        "id": "lzxCkq10PyNW"
      },
      "execution_count": 257,
      "outputs": []
    },
    {
      "cell_type": "code",
      "source": [
        "################################################\n",
        "# --- Agente 1: Informações do vídeo --- #\n",
        "################################################\n",
        "from googleapiclient.discovery import build\n",
        "\n",
        "YOUTUBE_API_KEY = userdata.get(\"YOUTUBE_API_KEY\")\n",
        "youtube = build('youtube', 'v3', developerKey=YOUTUBE_API_KEY)\n",
        "\n",
        "def agente_informativo(ID_digitado):\n",
        "    try:\n",
        "        request = youtube.videos().list(\n",
        "            part=\"snippet,contentDetails\",\n",
        "            id=ID_digitado\n",
        "        )\n",
        "        response = request.execute()\n",
        "\n",
        "        if response and 'items' in response and response['items']:\n",
        "            video_info = response['items'][0]\n",
        "            title = video_info['snippet']['title']\n",
        "            duration = video_info['contentDetails']['duration']\n",
        "            thumbnail = video_info['snippet']['thumbnails']['high']['url']\n",
        "\n",
        "            return {\n",
        "                \"title\": title,\n",
        "                \"duration\": duration,\n",
        "                \"thumbnail\": thumbnail\n",
        "            }\n",
        "        else:\n",
        "            return \"Vídeo não encontrado ou informações indisponíveis.\"\n",
        "    except Exception as e:\n",
        "        return f\"Ocorreu um erro ao buscar as informações do vídeo: {e}\""
      ],
      "metadata": {
        "id": "7PToxqFpE-Bs"
      },
      "execution_count": 258,
      "outputs": []
    },
    {
      "cell_type": "code",
      "source": [
        "################################################\n",
        "# --- Agente 2: Revisor de texto --- #\n",
        "################################################\n",
        "def agente_revisor(transcricao):\n",
        "    revisor = Agent(\n",
        "        name=\"agente_revisor\",\n",
        "        model=\"gemini-2.0-flash\",\n",
        "        instruction=\"\"\"\n",
        "        Você é um revisor de texto. Quero que pegue o texto mais recente fornecido pelo transcritor e retire elementos de minutagem e tópico,\n",
        "        somente deixando o texto, separando em parágrafos ou não somente conforme for necessário. Caso o texto esteja em outra língua,\n",
        "        sem ser o português. Traduza para o português.\n",
        "        \"\"\",\n",
        "        description=\"Agente que revisa textos\",\n",
        "    )\n",
        "\n",
        "    entrada_do_agente_revisor = f\"Texto a ser revisado: {transcricao}\"\n",
        "    # Executa o agente\n",
        "    texto_revisado = call_agent(revisor, entrada_do_agente_revisor)\n",
        "    return texto_revisado"
      ],
      "metadata": {
        "id": "Occhr0IzU4Pk"
      },
      "execution_count": 259,
      "outputs": []
    },
    {
      "cell_type": "code",
      "source": [
        "######################################\n",
        "# --- Agente 3: Buscador e Primeiro Verificador --- #\n",
        "######################################\n",
        "def agente_buscador(texto_revisado):\n",
        "    buscador = Agent(\n",
        "        name=\"agente_buscador\",\n",
        "        model=\"gemini-2.0-flash\",\n",
        "        instruction=\"\"\"\n",
        "            Você é um buscador de fontes informacionais. A partir do texto fornecido pelo revisor,\n",
        "            detecte o tema e pontos abordados e procure sobre em, NO MÁXIMO, 20 fontes confiáveis e\n",
        "            de relevância no tema, onde as informações sejam por texto\n",
        "            (evitando artigos de opinião e fontes muito imparciais).\n",
        "            Enfatize, nessas fontes, as partes onde ocorram incongruências entre informações do texto e das fontes.\n",
        "            Ao final, forneça os links das fontes pesquisadas.\n",
        "            \"\"\",\n",
        "        description=\"Agente que busca fontes relacionadas e faz uma primeira comparação\",\n",
        "        tools=[google_search]\n",
        "    )\n",
        "    entrada_do_agente_buscador = f\"Texto revisado: {texto_revisado}\"\n",
        "    # Executa o agente\n",
        "    busca_comparada = call_agent(buscador, entrada_do_agente_buscador)\n",
        "    return busca_comparada"
      ],
      "metadata": {
        "id": "VZJx1jFTcA08"
      },
      "execution_count": 260,
      "outputs": []
    },
    {
      "cell_type": "code",
      "source": [
        "##########################################\n",
        "# --- Agente 4: Aponta-erros --- #\n",
        "##########################################\n",
        "def agente_erros(texto_revisado, rascunho_gerado):\n",
        "    erros = Agent(\n",
        "        name=\"agente_erros\",\n",
        "        model=\"gemini-2.0-flash\",\n",
        "        instruction=\"\"\"\n",
        "            Você aponta os erros de uma fonte informacional, tendo como base um texto e uma análise subsequente\n",
        "            constando links de fontes confiáveis. Quero que vasculhe essas fontes, para confirmar se não há informações erradas no texto original.\n",
        "\n",
        "\n",
        "            ###\n",
        "\n",
        "\n",
        "            Com a análise de erros pronta, indique os trechos que estão errados, o porquê de estarem errados, e uma correção para tais trechos.\n",
        "            Para cada correção, aponte a fonte que está sendo utilizada. Ao fim, indique a porcentagem do quanto o conteúdo do texto original estava\n",
        "            comprometido por erros de informação.\n",
        "\n",
        "\n",
        "            ###\n",
        "\n",
        "\n",
        "            Ao fim, indique a confiabilidade do texto original a partir de 5 níveis, indicados por emojis,\n",
        "            levando em consideração a porcentagem estabelecida anteriormente.\n",
        "\n",
        "            Grau de confiabilidade:\n",
        "\n",
        "            Confiável (0% a 7% de erros) -> 🟢\n",
        "\n",
        "            Bom (8% a 20%) -> 🔵\n",
        "\n",
        "            Mediano (20% a 45%) -> 🟡\n",
        "\n",
        "            Ruim (46% a 60%) -> 🟠\n",
        "\n",
        "            Grave (61% a 100%) -> 🔴\n",
        "\n",
        "            ###\n",
        "\n",
        "            Caso o texto final esteja em inglês, passe para o português.\n",
        "            \"\"\",\n",
        "        description=\"Agente que aponta erros, correções e grau de confiabilidade.\",\n",
        "        tools=[google_search]\n",
        "    )\n",
        "    entrada_do_agente_erros = f\"Texto original: {texto_revisado}, Buscador: {busca_comparada}\"\n",
        "    # Executa o agente\n",
        "    texto_corrigido = call_agent(erros, entrada_do_agente_erros)\n",
        "    return texto_corrigido"
      ],
      "metadata": {
        "id": "4v5HYygfc_qF"
      },
      "execution_count": 267,
      "outputs": []
    },
    {
      "cell_type": "code",
      "source": [
        "print(\"🚀 Iniciando o Sistema de Verificação de Informações para YouTube e textos transcritos com 4 Agentes 🚀\")\n",
        "\n",
        "# --- Função que detecta se o conteúdo é um link ou um texto ---\n",
        "def obter_tipo_e_conteudo():\n",
        "    \"\"\"\n",
        "    Oferece ao usuário a opção de inserir um link ou texto completo\n",
        "    através de uma lista selecionável.\n",
        "\n",
        "    Retorna:\n",
        "        tuple: Uma tupla contendo o tipo de entrada ('link' ou 'texto')\n",
        "               e o conteúdo inserido pelo usuário.\n",
        "    \"\"\"\n",
        "    opcoes = [\"ID\", \"Texto Completo\"]\n",
        "    print(\"Tipos de análises disponíveis: \")\n",
        "    for i, opcao in enumerate(opcoes):\n",
        "        print(f\"{i + 1}. {opcao}\")\n",
        "\n",
        "    while True:\n",
        "        try:\n",
        "            escolha = int(input(\"Digite o número da sua escolha: \"))\n",
        "            if 1 <= escolha <= len(opcoes):\n",
        "                tipo = \"ID\" if escolha == 1 else \"texto\"\n",
        "                if tipo == \"ID\":\n",
        "                  conteudo = input(f\"🕵️ Insira o {opcoes[escolha - 1]} que deseja analisar: \")\n",
        "                else:\n",
        "                  conteudo = input(f\"🕵️ Insira o {opcoes[escolha - 1].lower()} que deseja analisar: \")\n",
        "                return tipo, conteudo\n",
        "            else:\n",
        "                print(\"Opção inválida. Por favor, digite um número da lista.\")\n",
        "        except ValueError:\n",
        "            print(\"Entrada inválida. Por favor, digite um número.\")\n",
        "\n",
        "# Obtém o tipo de entrada e o conteúdo\n",
        "tipo, conteudo = obter_tipo_e_conteudo()\n",
        "\n",
        "# Agora você pode usar as variáveis 'tipo' e 'conteudo'\n",
        "if tipo == \"ID\":\n",
        "    ID_digitado = conteudo\n",
        "    print(f\"\\nVocê inseriu um ID: {ID_digitado}\")\n",
        "    # Aqui você pode adicionar o código específico para lidar com links\n",
        "elif tipo == \"texto\":\n",
        "    texto_completo = conteudo\n",
        "    print(f\"\\nVocê inseriu o seguinte texto:\\n{texto_completo}\")\n",
        "    # Aqui você pode adicionar o código específico para lidar com o texto completo\n",
        "\n",
        "\n",
        "####\n",
        "\n",
        "\n",
        "# Inserir lógica do sistema de agentes ################################################\n",
        "if tipo is None or conteudo is None:\n",
        "\n",
        "    print(\"Infelizmente não podemos analisar o vazio!\")\n",
        "\n",
        "else:\n",
        "\n",
        "    if tipo == \"ID\":\n",
        "\n",
        "      print(f\"Tudo bem! Vamos verificar as informações que constam em {conteudo}\")\n",
        "\n",
        "      print(f\"As informações deste vídeo são: \\n\")\n",
        "\n",
        "      print(agente_informativo(ID_digitado))\n",
        "\n",
        "      print(\"--------------------------------------------------------------\")\n",
        "\n",
        "    else:\n",
        "\n",
        "      print(\"Maravilha! Vamos então verificar o texto que você inseriu\")\n",
        "\n",
        "      print(\"--------------------------------------------------------------\")\n",
        "\n",
        "\n",
        "    if tipo == \"ID\":\n",
        "\n",
        "      print(\"\\n--- 📝 Resultado do Agente 1 (Transcritor) ---\\n\")\n",
        "\n",
        "      transcricao = API_transcritor(ID_digitado)\n",
        "\n",
        "      print(\"--------------------------------------------------------------\")\n",
        "\n",
        "    else:\n",
        "\n",
        "      if transcricao is None:\n",
        "\n",
        "          print(\"🚫 Não foi possível obter a transcrição. Encerrando o processo.\")\n",
        "\n",
        "      else:\n",
        "\n",
        "        transcricao = texto_completo\n",
        "\n",
        "\n",
        "    texto_revisado = agente_revisor(transcricao)\n",
        "\n",
        "    print(\"\\n--- 📝 Resultado do Agente 2 (Revisor) ---\\n\")\n",
        "\n",
        "    display(to_markdown(texto_revisado))\n",
        "\n",
        "    print(\"--------------------------------------------------------------\")\n",
        "\n",
        "\n",
        "    busca_comparada = agente_buscador(texto_revisado)\n",
        "\n",
        "    print(\"\\n--- 📝 Resultado do Agente 3 (Buscador) ---\\n\")\n",
        "\n",
        "    display(to_markdown(busca_comparada))\n",
        "\n",
        "    print(\"--------------------------------------------------------------\")\n",
        "\n",
        "\n",
        "    texto_corrigido = agente_erros(texto_revisado, busca_comparada)\n",
        "\n",
        "    print(\"\\n--- 📝 Resultado do Agente 4 (Erros) ---\\n\")\n",
        "\n",
        "    display(to_markdown(texto_corrigido))"
      ],
      "metadata": {
        "colab": {
          "base_uri": "https://localhost:8080/",
          "height": 1000
        },
        "id": "PLfOrgCYeQ0v",
        "outputId": "eebd89ca-e25d-449e-e7e0-f84b1ebf92fb",
        "collapsed": true
      },
      "execution_count": 271,
      "outputs": [
        {
          "output_type": "stream",
          "name": "stdout",
          "text": [
            "🚀 Iniciando o Sistema de Verificação de Informações para YouTube e textos transcritos com 4 Agentes 🚀\n",
            "Tipos de análises disponíveis: \n",
            "1. ID\n",
            "2. Texto Completo\n",
            "Digite o número da sua escolha: 1\n",
            "🕵️ Insira o ID que deseja analisar: 3DgP-YNRFAM\n",
            "\n",
            "Você inseriu um ID: 3DgP-YNRFAM\n",
            "Tudo bem! Vamos verificar as informações que constam em 3DgP-YNRFAM\n",
            "As informações deste vídeo são: \n",
            "\n",
            "{'title': 'POR QUE LARGUEI O WINDOWS', 'duration': 'PT13M55S', 'thumbnail': 'https://i.ytimg.com/vi/3DgP-YNRFAM/hqdefault.jpg'}\n",
            "--------------------------------------------------------------\n",
            "\n",
            "--- 📝 Resultado do Agente 1 (Transcritor) ---\n",
            "\n",
            "--------------------------------------------------------------\n",
            "\n",
            "--- 📝 Resultado do Agente 2 (Revisor) ---\n",
            "\n"
          ]
        },
        {
          "output_type": "display_data",
          "data": {
            "text/plain": [
              "<IPython.core.display.Markdown object>"
            ],
            "text/markdown": "> Algum tempo depois do vídeo do Leon sobre Linux, PewiePie fez um vídeo a respeito. Acha que o fim do suporte do Windows 10 pode aumentar o market do Linux?\n> \n> Sim, porque tem computadores mais antigos, né, que não vão ter suporte mais do Windows. Você precisa de computadores mais modernos para ter o Windows 11. Não é nenhuma questão do seu computador ser rápido o suficiente pro Windows 11, né? Essa questão. Tem uns requerimentos de hardware que se o computador não tiver, você não roda Windows.\n> \n> Então assim, é por conta de necessidade de hardware. Seu processador tem que ter determinadas características para você poder instalar o Windows 11 nele, senão nem instala. Não é que seu processador ficou lento e não roda o sistema operacional mais moderno, não. Seu processador pode ser totalmente capaz, totalmente capaz. Se não tiver esse requerimento de hardware, ele não instala.\n> \n> Então, tem muita gente que tem computador mais antigo que tá perfeitamente funcional e roda Windows 10, só que você não pode instalar o 11 nele e a Microsoft vai acabar com suporte pro Windows 10. Vai chegar um momento que vai ser, eu não sei se já acabou de fato, vocês estão anunciando que vai acabar, mas vai ficar inviável usar o Windows 10 porque você para de receber atualização de segurança. E aí navegar na internet com o seu computador vira um problema. Você não pode usar ele normalmente.\n> \n> E tem outras coisas também, pode ter novas necessidades de atualização de coisas de software e coisas do tipo para poder rodar jogos mais modernos ou algo do tipo assim que se o computador simplesmente não vai ter, né? Não vai ter. Eu não sei qual o nível aí da perda de suporte, mas vai ter perda de suporte. A Microsoft tá tentando puxar todo mundo pro 11.\n> \n> Qual que se torna a sua alternativa se você quiser ter um sistema moderno atualizado? Linux, eu vou dizer que em termos de viabilidade é a única alternativa. Existem outros sistemas operacionais aí existem, né? Instala o tempo aí se você quiser. Só que Linux vai ser de fato a solução pra galera. E eu acho que o mercado tende a crescer por conta disso.\n> \n> E para você que tá pensando em usar sua máquina mais antiga, talvez eu faça isso numa máquina minha. Eu tenho uma aqui, eu tenho, sabe aquela linha profissional? Não era o o Zon, não é? É, era baixa, mas que a Intel tinha antes, que era aquela linha X dela, tá? Que você que você tinha um zilhão de de coisa PCI para você plugar m de placa e coisa do tipo. Eu tenho uma dessa aqui, custou caríssimo na época que eu comprei. Perfeitamente capaz.\n> \n> Com tanto que eu parei de usar esse computador, a gente já tava nessa casa aqui, foi bem mais recente. Eu consigo instalar o Windows 11 nele? Não. Não. O meu Windows 10 vai atualizar? Não. Então, talvez eu faça uma instalação de Linux para poder usar e ver e ver qual é também. Tem uma máquina máquina Linux aqui e tem versões do Linux, né, que a gente chama de distribuições do Linux, porque como Linux é de código aberto, existem várias versões de um sistema operacional Linux, tá? Baseado em Linux. Linux não é o nome do sistema operacional, é o nome do kernel.\n> \n> Vai ter um nerd, né? Não, na verdade, eh, o certo seria falar no Linux porque na verdade é um con não sei para nerd. Enfim, eh, sistemas baseados em Linux, você pode baixar uma distribuição distro, que a galera chama, que seja simples de instalar. Você tem vários níveis de de quão avançado e quão complicado é, quão fácil, quão difícil é de usar, qual o nível de conhecimento que você tem que ter do sistema operacional para usar. Você pode baixar um que já vem com tudo pronto para ser um Mint da vida, sabe? Se se você quiser uma coisa qualquer, tem uma versão do Bunto Cubunto que é que é mais fácil, Zorim, para você que não saca nada.\n> \n> E se você quiser tirar a onda também e nunca arrumar um cônjuge, você pode baixar o arte também. Nunca arrumar um cônjuge. Um cônjuge. Você pode tirar a onda, coloca na sua camiseta. Eu uso arte. É uma piada do da galera do Linux, porque o arte é uma versão do Linux que vem com absolutamente nada. Tudo para funcionar você tem que instalar meio que manualmente. Você mesmo tem que instalar. Então são usuários bem mais avançados que conseguem usar de forma efetiva, tá? Porém é um que dá uma quantidade de controle muito grande para esses usuários, por isso que os mais avançados usam. Mas você pode baixar o mais fácil, tá?\n> \n> Aí você baixa o Linux, né? Instala no seu computador e em uma semana você já vai estar falando em todo o vídeo na internet em que alguém defende o outro sistema operacional, você pode falar que Linux é melhor, tá? Como todo usuário de Linux faz. Inclusive, o negó Linux agora é porque ele tá ficando muito mais fácil de usar por conta de todo o suporte que ele tá recebendo, porque uma empresa chamada Valve, tá, decidiu que os jogos dela que ela vende devem rodar no Linux.\n> \n> Quais jogos? Todos de PC. Então, a empresa do Steam Deck, tá, empresa da Valp, todo mundo é da Steam, promoveu durante muito tempo uma série de ferramentas de compatibilidade, tá? Principal, vamos colocar principal aqui o Proton, tá? Próton, eu vou explicar de forma grosseira, uma camada de tradução que traduz os comandos, né, as as instruções de um jogo feito para Windows, para você rodar ele no Linux sem você precisar recrever o jogo com código para rodar em Linux. Ele simplesmente traduz meio que em tempo real, tá?\n> \n> Não é isso, tá? Não me não não me O Linux é um cano, tá? Não me eu tô explicando de forma bem bem bem ampla aqui. A gente não tá no público especializado, tá bom? E aí agora você pode jogar em Linux também, você pode jogar jogo. Um dos problemas que você tinha ter o Linux no seu computador é que você não podia jogar jogo. Hoje a maior parte dos jogos você já pode jogar com algumas exceções.\n> \n> Você tem ferramentas muito boas que estão disponíveis também que a gente usa no PC no Linux. Por exemplo, a edição de vídeo da Vince Resolve tá em Linux, embora não seja tão bom quanto o PC, eu vou falar isso, tá? Eu vou defender isso sempre. Você já tentou gravar a voz direto nele no Linux? Funciona? Não, né? Não funciona.\n> \n> Enfim, e tem várias outras coisas também. Ele tem uma comunidade que dá um suporte muito grande para ele e você tem uma série de ferramentas que podem ser muito boas e muito úteis para você. Então eu acho que se você tiver no Windows 10 com um computador que não pode receber upgrade por Windows 11, dê uma olhada em Linux. Ah, principalmente se você tiver um amigo que pode te acudir quando as teclas do F1 ao F10 do seu computador não funcionarem e te mostrar como você pode corrigir, é, facilita ainda mais a vida.\n> \n> Mas dá uma olhada nessas distribuições que já vem com tudo pronto, feito pra galera que é iniciante, que você provavelmente vai ter uma experiência boa. Já é bem melhor do que era, tipo assim, há 5 anos atrás, infinitamente melhor do que era há 10 anos atrás, nem comparação com que era há 15 anos atrás. Então eu acho que o Linux a crescer. O Pewdiepie, então é isso que eu tava, fez um vídeo que ele instalou Linux no laptop e no computador dele. E no laptop, sabe o que que ele instalou? Não. Arte só para tirar onda. Sabe por que ele fez isso, né? Porque ele é tem muito tempo livre.\n> \n> Exatamente. Entar não tem nada para tem que ocupar o dia com alguma coisa. Não, tá aposentado já é casado. Toda disponibilidade porque a mulher dele não vai ir a lugar nenhum, não é mesmo? Ele mudou pro Japão, não tem como ela sair correndo.\n> \n> Acho que ele mudou para isso. Vou mudar pro Japão, tá? Eu trago minha mulher para cá. Aí quando eu começar a usar arte, não, quando eu for instalar arte no meu laptop, ela não tem onde ela não tem para onde correr. Mas ele foi muito elogiado, não foi? Pela galera, a galera subestimava o Pewdiepie. Comecei agora. Aí você vê o Rising, que é o o a customização de Linux que ele fez no laptop dele com arte. É um negócio assim, tem uns trec lá avançado.\n> \n> Avançado para mim que se não sei. Eu instalei Linux duas vezes aqui recentemente, uma vez há muitos anos atrás instalei o Monto no meu laptop. Tirei duas semanas depois, mas não tirei alguns meses depois, mas é eu instalei recentemente e eu fiz aqui para um vídeo e eu tô usando agora no meu R, mas eu olhando assim eu falo: \"Poxa, caramba, parabéns pro PewDiePie. Você instalaria, meu bem? A gente não tá no Japão. Bem, eu ainda não me aposentei. Eu tenho mais coisa para fazer na minha vida.\n> \n> A me pergunta, Leon, por que que você começou a usar o Mac hoje em dia? Agora eu fiz minha conversão pro Mac mesmo, de verdade. Eu vou explicar o porquê. Gente, eu oficialmente troquei as teclas do meu teclado pro Mac. Eu tirei aqui, eu tenho as teclas do Windows. Aqui nós temos aqui o alt depois de anos, tá? O Alt saiu. Acho que o Alt vira comando ou options. Alt vira options. A gente tem aqui outro Alt do outro lado que é outro comando. Então o out é command de fato, tá? E a gente tem aqui a tecla do Windows, que no meu era estilizado, que virou options.\n> \n> Então o meu teclado agora é full Mac. Eu tava usando teclado de Windows, tá? Porque eu tava ali, eu vou voltar, né? Eu vou eventualmente ligar meu desktop Windows aqui para jogar um joguinho. Eh, eu não fiz isso em um ano e meio. Desistiu. Por que, Leon, que você tá fazendo isso? Por que, Leon, que você comprou um NAS da Sinod em vez de fazer você mesmo seu NAS, né? Por que que você usa N de termostato na sua casa? Essas soluções fechadas, pagas que não te dão liberdade? Você é um cara de tec. Você é um cara de tec. Você não sabe fazer tudo isso manualmente? Pega um negócio aí, faz uma solução local na sua casa usando Raspberry Pi para alguma coisa, não sei. Monta, monta o seu próprio, pega um computador mais velho seu aí, monta seu próprio NES, né? Tá parada aí, aproveita, mostra aí como é que faz, faz um vídeo disso.\n> \n> Vou falar, gente, a vida é muito curta. Eu não quero viver minha vida dando assistência técnica. A vida é curta, a gente tem que fazer trilha duas vezes por semana. A gente tem que malhar todo dia, entendeu? Fazer nossa própria alimentação. Agora apareceu formiga no deck, tem que detetizar. Nós não moramos no Japão.\n> \n> Então assim, gente, eu tô pegando umas soluções agora que vem tudo pronto. Eu vou comprar um coisa de tec, eu penso assim, qual é o que vai me dar menos trabalho? Eu quero esse. A galera por que que você não usa Linux? Eu posso instalar Lux uma máquina aqui para ver fazer um vídeo de repente. Eh, eu coloquei o basite no dia ali, porque ele é tudo pronto, tudo funciona nele, né? Instala uma vez só. Inclusive eu tô usando meu computador pessoal, é um Mac agora e eu tô pensando nesse computador da live aqui porque já deu problema aqui na live que travou. Acho que tá tendo problema agora de drive da Nvidí, tendo problema no codec, eu tô pensando em colocar um Mac. Não é que seja melhor, não é que o custo, a relação custo benefício seja melhor, é porque eu tô cansado de dar assistência em tudo. Se qualquer coisa para de funcionar de técnica aqui em casa, eu tenho que parar o meu dia e tentar resolver.\n> \n> A vida é curta. A vida é curta. Não aguento mais. Quando a gente, quando começou esse canal, eh, pelo menos quando eu comecei, não tinha dinheiro para comprar as coisas, tinha que fazer com o que tinha. Eu ficava o dia inteiro vendo um jeito tirar leite de pedra com o hardware que eu tinha. Sabe o que que era rodar Fraps e Minecraft ao mesmo tempo? Meu computador não dava conta. Não dava conta. Quando eu comecei esse canal, eu colocava o Minecraft numa janelinha no meio da tela em como é que era? Era era 640 por 360, porque eu não conseguia fazer full screen e rodar o Fraps ao mesmo tempo, que era que era o programa de gravação de tela que a gente usava na época. Não dava.\n> \n> E olha o que eu fiz depois de muito teste. Eu ficava o dia inteiro tentando fazer para conseguir um frame rate decente. É muito teste. Tira isso, coloca aquilo, atualiza não sei quê, muda não sei quê, desabilita não sei quê. Tira esse programa tá ativo, deu um problema, tava funcionando, parou de funcionar. O que que deu errado? Eu não quero mais viver nesse mundo. Eu tô usando o Mac agora, meu computador principal. Não é porque eu gosto da Apple, não é porque eu gosto do sistema operacional, é porque o tempo de manutenção que eu gasto com ele é zero.\n> \n> Eu vou ter que sentar aqui nesse computador e descobrir qual é esse problema de encoder que eu tive. Eu tive eh numa das gravações que eu fui pro República há semanas atrás, não tive na outra e tô tendo e tive agora uma vez na live que a live travou. Galera que tá ao vivo aqui sabe, antes a live travava porque tava dando problema do processador da Intel que eu troquei. Agora, agora o problema o computador não tá travando. Agora o problema é do codificador, da placa de vídeo, que é a coisa que pega o sinal e transforma em vídeo para mandar pra galera, para mandar pr pro pra live, para gravar localmente. Eu não quero mais ter que lidar com isso.\n> \n> Com tanto que eu acho, tá, que eu vou comprar um Mac para fazer essa codificação. Só para isso da live aqui, só para isso das gravações. É a melhor solução. Não, não tem AV1, não tem várias coisas que tem na Nvidia, só que vamos falar assim, tudo que você faz, todo equipamento que você tem um down time. A gente na indústria lida com isso. Down time é o tempo, tempo de baixa, é o a porcentagem do tempo em que o aparelho, o equipamento não está funcionando, ou porque ele quebra ou porque tem uma manutenção periódica e coisas do tipo.\n> \n> O meu downtime com Mac até agora de zero. Eu não entro no Mac e falo assim: \"Será que, ah, eu acho que esse drive tá desatualizado. Eu nunca fiz isso, porque eu não preciso me preocupar. Então essa é minha mentalidade agora. Por que que eu tô falando disso? Porque eu entrei des reclamação. Porque o único PC que eu tenho funcionando aqui em casa agora tá me dando problema. Se você não, você tá vendo esse corte, você não sabe, mas a live caiu, ela travou. Travou.\n> \n> E era o outro problema que tinha antes, porque ela travava antes também, mas antes era o processador, agora é o codificador da placa de vídeo, que eu acho que é um problema de drive. Eu posso sentar aqui e passar o meu dia inteiro tentando corrigir isso. Ou eu posso comprar uma solução, embora mais cara, embora menos customizável, pronta e fazer trilha e cuidar da minha vida.\n> \n> Fica aí o desabafo. Então eu acho que o Linux é uma opção muito boa pra galera que tá aí com computador com Windows 10, que não pode instalar o Windows 11 e que tá com computador totalmente funcional ainda, tá? Para você ter um sistema operacional atualizado. Porém, para moar, eu cheguei naquele momento da minha vida em que eu não quero passar o dia inteiro tentando solucionar problema no computador. Não quero mais. Eu fiz isso muitos anos já.\n> \n> Então esse corte foi só para isso. Tá aí um desabafo. Linux fã ou hater, não sei. Recomendo totalmente. Vocês são jovem aí, entendeu? Ter a vida para viver pra frente, tá?\n> \n> Beleza. Agora, agora se for adulto cansado que nem eu, tá? Pega o Mac.\n"
          },
          "metadata": {}
        },
        {
          "output_type": "stream",
          "name": "stdout",
          "text": [
            "--------------------------------------------------------------\n",
            "\n",
            "--- 📝 Resultado do Agente 3 (Buscador) ---\n",
            "\n"
          ]
        },
        {
          "output_type": "display_data",
          "data": {
            "text/plain": [
              "<IPython.core.display.Markdown object>"
            ],
            "text/markdown": "> Com certeza! Analisarei o texto fornecido e buscarei fontes confiáveis para verificar as informações e identificar possíveis incongruências. Os principais pontos abordados no texto são:\n> \n> 1.  **Fim do suporte ao Windows 10 e migração para o Windows 11:** Impacto no mercado de sistemas operacionais, especialmente para computadores mais antigos.\n> 2.  **Requisitos de hardware do Windows 11:** Necessidade de hardware específico para instalação, mesmo que o computador ainda seja funcional.\n> 3.  **Linux como alternativa:** Viabilidade do Linux como sistema operacional moderno e atualizado para computadores sem suporte ao Windows 11.\n> 4.  **Facilidade de uso do Linux:** Evolução das distribuições Linux para serem mais amigáveis para iniciantes (Mint, Ubuntu, Zorin) em contraste com distribuições mais complexas (Arch).\n> 5.  **Apoio da Valve e Steam Deck:** Importância do Proton para rodar jogos de Windows no Linux.\n> 6.  **Experiência pessoal do autor:** Transição para Mac devido ao tempo gasto com manutenção de PCs.\n> 7.  **PewDiePie e Linux Arch:** Adoção do Linux Arch por PewDiePie e a customização avançada.\n> \n> Com base nesses pontos, farei as seguintes buscas:\n> \n> \n> Com base nas fontes pesquisadas, aqui estão os pontos relevantes e possíveis incongruências em relação ao texto revisado:\n> \n> **1. Fim do suporte ao Windows 10 e migração para o Windows 11:**\n> \n> *   **Concordância:** As fontes confirmam que o suporte ao Windows 10 terminará em 14 de outubro de 2025 (\\[2], \\[5], \\[9], \\[12], \\[15], \\[28], \\[36]). Após essa data, a Microsoft não fornecerá mais atualizações de segurança, correções ou suporte técnico (\\[2], \\[5], \\[15]).\n> *   **Impacto:** O fim do suporte pode deixar milhões de PCs vulneráveis (\\[1], \\[12], \\[28]). Projetos como o \"End of 10\" (\\[1]) visam facilitar a migração para o Linux em PCs mais antigos.\n> *   **Alternativas:** A Microsoft incentiva a migração para o Windows 11 (\\[2], \\[5]), mas muitos computadores não atendem aos requisitos (\\[1], \\[11]).\n> \n> **2. Requisitos de hardware do Windows 11:**\n> \n> *   **Concordância:** O Windows 11 possui requisitos de hardware específicos, incluindo processador, RAM, armazenamento e placa de vídeo (\\[8], \\[17], \\[22]).\n> *   **Especificidades:** Os requisitos incluem processador de 1 GHz com 2 ou mais núcleos de 64 bits, 4 GB de RAM, 64 GB de armazenamento, tela HD e compatibilidade com DirectX 12 (\\[8], \\[17]). A necessidade de TPM 2.0 é frequentemente mencionada (\\[17]).\n> *   **Incongruência Potencial:** O texto original menciona que \"não é nenhuma questão do seu computador ser rápido o suficiente pro Windows 11\". Embora a velocidade seja um fator, os requisitos de hardware são mandatórios, mesmo que o processador seja capaz.\n> \n> **3. Linux como alternativa:**\n> \n> *   **Concordância:** O Linux é amplamente citado como uma alternativa viável para computadores que não suportam o Windows 11 (\\[1], \\[3], \\[11], \\[16], \\[19], \\[21], \\[28], \\[30]). É compatível com hardware mais antigo e pode prolongar a vida útil dos PCs (\\[1], \\[6], \\[28]).\n> *   **Vantagens:** Além de ser gratuito, o Linux oferece segurança, personalização e, muitas vezes, melhor desempenho em hardware mais antigo (\\[1], \\[6], \\[14], \\[16], \\[28]).\n> \n> **4. Facilidade de uso do Linux:**\n> \n> *   **Concordância:** As fontes destacam a evolução das distribuições Linux para serem mais amigáveis para iniciantes (\\[3], \\[13], \\[14], \\[16], \\[21]).\n> *   **Distribuições:** Ubuntu, Linux Mint e Zorin OS são frequentemente recomendados para iniciantes devido à sua facilidade de uso e interfaces intuitivas (\\[3], \\[4], \\[13], \\[14], \\[16], \\[21]).\n> *   **Complexidade:** Arch Linux é mencionado como uma distribuição para usuários mais avançados, que desejam maior controle e personalização (\\[3], \\[31], \\[32]).\n> \n> **5. Apoio da Valve e Steam Deck:**\n> \n> *   **Concordância:** A Valve tem investido no suporte ao Linux para jogos através do Proton (\\[10], \\[20], \\[25], \\[33]). O Steam Deck utiliza SteamOS, baseado em Linux, e o Proton permite rodar jogos de Windows no Linux (\\[10], \\[20], \\[25]).\n> *   **Proton:** O Proton é uma camada de compatibilidade que permite que jogos de Windows rodem no Linux (\\[10], \\[20], \\[25], \\[33]).\n> \n> **6. Experiência pessoal do autor:**\n> \n> *   **Mac como solução:** A transição para Mac é motivada pela redução do tempo gasto com manutenção e solução de problemas (texto original). As fontes confirmam que Macs são frequentemente escolhidos pela estabilidade e facilidade de uso, especialmente para criadores de conteúdo (\\[7], \\[35], \\[38], \\[39]).\n> \n> **7. PewDiePie e Linux Arch:**\n> \n> *   **Concordância:** PewDiePie realmente instalou o Arch Linux e fez vídeos sobre sua experiência (\\[29], \\[31], \\[32], \\[37]). Isso gerou interesse na comunidade Linux (\\[34]).\n> \n> **Fontes:**\n> \n> 1.  [https://vertexaisearch.cloud.google.com/grounding-api-redirect/AbF9wXEfiSixNfRsL8hGOuK9Z6Vdtuw50kGrgf2Eq8aORT1cLY5qL-8vHlYNVhdaKGPlHc4tBYvxCHb4U1CBaBPPkWIq82vpIbldA1-IDFeE5M1KRjqS40k1JJugaeEVgyb2cSxY7zugOhXezrIdIciBciyff6IKNNRY2K2x1jn-zMd\\_PlIf1OJWMArocGEyxAGdvPQCPj6U43NWxMMt7\\_\\_S9Fmgh6qYXm08ZDo=](https://vertexaisearch.cloud.google.com/grounding-api-redirect/AbF9wXEfiSixNfRsL8hGOuK9Z6Vdtuw50kGrgf2Eq8aORT1cLY5qL-8vHlYNVhdaKGPlHc4tBYvxCHb4U1CBaBPPkWIq82vpIbldA1-IDFeE5M1KRjqS40k1JJugaeEVgyb2cSxY7zugOhXezrIdIciBciyff6IKNNRY2K2x1jn-zMd_PlIf1OJWMArocGEyxAGdvPQCPj6U43NWxMMt7__S9Fmgh6qYXm08ZDo=)\n> 2.  [https://vertexaisearch.cloud.google.com/grounding-api-redirect/AbF9wXFofYueaDIaD6dl69-BgoV1aqpehAhfddMm6u\\_y08hqfs1khvEe9LaVzlNWfGsZ8hV3ALXD05UXYs5xaCT6eEB7-\\_RXfhPCQEDlM1TWyqZ6foDjj-tF8vyOIsp4PHhBMrf0bOHKFlIUfjbj87ILU9lhSw==](https://vertexaisearch.cloud.google.com/grounding-api-redirect/AbF9wXFofYueaDIaD6dl69-BgoV1aqpehAhfddMm6u_y08hqfs1khvEe9LaVzlNWfGsZ8hV3ALXD05UXYs5xaCT6eEB7-_RXfhPCQEDlM1TWyqZ6foDjj-tF8vyOIsp4PHhBMrf0bOHKFlIUfjbj87ILU9lhSw==)\n> 3.  [https://vertexaisearch.cloud.google.com/grounding-api-redirect/AbF9wXEIkfGUxIRGLJOGA1mPl7Y28YOtmu0lDJgSOx-AzOLULl10UNDb8njXaoIUdrKgY4xTucHN8ZMRSS0WJWsL1iFi7DPn3bIxQOllAr9lYIq2sahUYDVvAA4AGHuGDAPOpfGmF11GTXiadqzqPk3t3\\_OL9CASvcaT2jfwfR4N9F9fFRCx2hPL9SH4qHnAwQdQD0zUYCw=](https://vertexaisearch.cloud.google.com/grounding-api-redirect/AbF9wXEIkfGUxIRGLJOGA1mPl7Y28YOtmu0lDJgSOx-AzOLULl10UNDb8njXaoIUdrKgY4xTucHN8ZMRSS0WJWsL1iFi7DPn3bIxQOllAr9lYIq2sahUYDVvAA4AGHuGDAPOpfGmF11GTXiadqzqPk3t3_OL9CASvcaT2jfwfR4N9F9fFRCx2hPL9SH4qHnAwQdQD0zUYCw=)\n> 4.  [https://vertexaisearch.cloud.google.com/grounding-api-redirect/AbF9wXEAEqmQoogXLMy7MMpgQ93OUSS4D689x4Ti5iPEt2QxJf7nQuztL24fYPTlDGlMv-teEcPEuvVUITNYM0YWCFXWK48th1JqPr-po-GoknXt9WVfNTjezSV2OnWZvOThwI23WLykX4deJG0fW9\\_a\\_m8di2CnIQN44WivaJXA-TfLNaalVx\\_\\_dl5UINplqCa9djQqi3i46g01tYEjl8G4uteStuSswRoo](https://vertexaisearch.cloud.google.com/grounding-api-redirect/AbF9wXEAEqmQoogXLMy7MMpgQ93OUSS4D689x4Ti5iPEt2QxJf7nQuztL24fYPTlDGlMv-teEcPEuvVUITNYM0YWCFXWK48th1JqPr-po-GoknXt9WVfNTjezSV2OnWZvOThwI23WLykX4deJG0fW9_a_m8di2CnIQN44WivaJXA-TfLNaalVx__dl5UINplqCa9djQqi3i46g01tYEjl8G4uteStuSswRoo)\n> 5.  [https://vertexaisearch.cloud.google.com/grounding-api-redirect/AbF9wXHhmKdaIrbY2ceF8dgYotJtPusa0HQ7bp6lj-c7wR7eZO5eWc67Q9Pd0INunSqkYhObyTTS2AvNWNDo\\_gP011Iv4-BFDhnpqQ5Z2lBYPIUlIn1r2e0p9DB\\_vT6DcSNQa2Wghyq9\\_74GjR3EHbUUnpL4bA==](https://vertexaisearch.cloud.google.com/grounding-api-redirect/AbF9wXHhmKdaIrbY2ceF8dgYotJtPusa0HQ7bp6lj-c7wR7eZO5eWc67Q9Pd0INunSqkYhObyTTS2AvNWNDo_gP011Iv4-BFDhnpqQ5Z2lBYPIUlIn1r2e0p9DB_vT6DcSNQa2Wghyq9_74GjR3EHbUUnpL4bA==)\n> 6.  [https://vertexaisearch.cloud.google.com/grounding-api-redirect/AbF9wXF1-\\_S0iumcw1ueM2TLC-c7B-SdksPFLDUqC3QowGmEoRic-Co8664xBLYm0ELuQPuvB3MyuVasi58CPMwxqTESUxz2YJAfxwBW8uuaE5xwP1Pg-NAnmTGtwcXqV24pbCv\\_k4P2CqLBuk\\_6mroa6eXBztOg6TjabN\\_1vQ==](https://vertexaisearch.cloud.google.com/grounding-api-redirect/AbF9wXF1-_S0iumcw1ueM2TLC-c7B-SdksPFLDUqC3QowGmEoRic-Co8664xBLYm0ELuQPuvB3MyuVasi58CPMwxqTESUxz2YJAfxwBW8uuaE5xwP1Pg-NAnmTGtwcXqV24pbCv_k4P2CqLBuk_6mroa6eXBztOg6TjabN_1vQ==)\n> 7.  [https://vertexaisearch.cloud.google.com/grounding-api-redirect/AbF9wXFZ5ZOOHOku7k1OHPfI1E46\\_NM8Y0gmaTTsripYCy2A4HDxxJ72jx94MHHta7dtCRWNFyIPRWGvb2G02yLdofAp6oGhEg\\_rsUuv9AYijVO1PtW-m6f8d1EIumtvS2F6Wm6K5PBk1fAH0UrxQvFn0wZdRL2Nd9xuPHON2tKr2ZDQhicbp1YvISgkQSRDAZ8OCdT\\_L6wuCndSQDzwjKU=](https://vertexaisearch.cloud.google.com/grounding-api-redirect/AbF9wXFZ5ZOOHOku7k1OHPfI1E46_NM8Y0gmaTTsripYCy2A4HDxxJ72jx94MHHta7dtCRWNFyIPRWGvb2G02yLdofAp6oGhEg_rsUuv9AYijVO1PtW-m6f8d1EIumtvS2F6Wm6K5PBk1fAH0UrxQvFn0wZdRL2Nd9xuPHON2tKr2ZDQhicbp1YvISgkQSRDAZ8OCdT_L6wuCndSQDzwjKU=)\n> 8.  [https://vertexaisearch.cloud.google.com/grounding-api-redirect/AbF9wXE9hfNJI38KrltQjrEnVuL5EdIPsrcEU8EvAgEjwtEqNvu0lNePNy5WmSZcw8cFWQ18mFtq6VdCjdlpdPDJdI9J6Allgh1wPLCZbNSliUVqU7kgUd2NtzQEHygTxPAutpeoX8ulMIJYHlNhGoIdeAKYb2RBcgNNz7schgR9oP-9vzrFsdHfBw2vAcUFapggkrEye\\_pAwX7uhw==](https://vertexaisearch.cloud.google.com/grounding-api-redirect/AbF9wXE9hfNJI38KrltQjrEnVuL5EdIPsrcEU8EvAgEjwtEqNvu0lNePNy5WmSZcw8cFWQ18mFtq6VdCjdlpdPDJdI9J6Allgh1wPLCZbNSliUVqU7kgUd2NtzQEHygTxPAutpeoX8ulMIJYHlNhGoIdeAKYb2RBcgNNz7schgR9oP-9vzrFsdHfBw2vAcUFapggkrEye_pAwX7uhw==)\n> 9.  [https://vertexaisearch.cloud.google.com/grounding-api-redirect/AbF9wXHAhvLF5I4nexm9gyPS17lQQRO3TvJ-CMfXrh9-g-1\\_YFnmkDbGcF0-pjb01l2K6amDE2LhlOXBMD4h8PMpR9CRTpTMH6rq36BYGR79\\_gvt6BNpYXLuWgAtpSEAhN1\\_EHBvSiOECBUSMnTiroiOdBIiWlv1MyROEwlcg4Z3HS8U5aegdmlFJyuoEpHuy5KTk4cCKg==](https://vertexaisearch.cloud.google.com/grounding-api-redirect/AbF9wXHAhvLF5I4nexm9gyPS17lQQRO3TvJ-CMfXrh9-g-1_YFnmkDbGcF0-pjb01l2K6amDE2LhlOXBMD4h8PMpR9CRTpTMH6rq36BYGR79_gvt6BNpYXLuWgAtpSEAhN1_EHBvSiOECBUSMnTiroiOdBIiWlv1MyROEwlcg4Z3HS8U5aegdmlFJyuoEpHuy5KTk4cCKg==)\n> 10. [https://vertexaisearch.cloud.google.com/grounding-api-redirect/AbF9wXF-wh1DlKP4N3NVnLTSEunI5W7r2l23\\_Za1nlQXWzy6hICuOFfwGfqGNgjtHfTCpbDJ1BW9o2mp5fdvNDExgJ7U7SbmY2i5pMsY2zuCnNT7CBQU\\_RBv3dmvOS\\_5AxiwdggUABenwsorgjSnyZXbTAOBC4b5i0vr8rEw2iDi653nDovGvr5HmQvAqsas8BVt473lsoXosI\\_vdRuO](https://vertexaisearch.cloud.google.com/grounding-api-redirect/AbF9wXF-wh1DlKP4N3NVnLTSEunI5W7r2l23_Za1nlQXWzy6hICuOFfwGfqGNgjtHfTCpbDJ1BW9o2mp5fdvNDExgJ7U7SbmY2i5pMsY2zuCnNT7CBQU_RBv3dmvOS_5AxiwdggUABenwsorgjSnyZXbTAOBC4b5i0vr8rEw2iDi653nDovGvr5HmQvAqsas8BVt473lsoXosI_vdRuO)\n> 11. [https://vertexaisearch.cloud.google.com/grounding-api-redirect/AbF9wXGp33apnuFmelmTo\\_CawVD3Xl6jkv-ZXrRHA-yAlRLU9bgvuHvHwQRLsIwVZiy2Y6O5q4DBd7gkDJrjjS0ETFsSVmU1ZIDaVaFV0GWI8IyFS46nVutgQEoXg4R90pTG2880xnQU03c\\_-ap5Vc198F6f77APSamOVSsF1A==](https://vertexaisearch.cloud.google.com/grounding-api-redirect/AbF9wXGp33apnuFmelmTo_CawVD3Xl6jkv-ZXrRHA-yAlRLU9bgvuHvHwQRLsIwVZiy2Y6O5q4DBd7gkDJrjjS0ETFsSVmU1ZIDaVaFV0GWI8IyFS46nVutgQEoXg4R90pTG2880xnQU03c_-ap5Vc198F6f77APSamOVSsF1A==)\n> 12. [https://vertexaisearch.cloud.google.com/grounding-api-redirect/AbF9wXFjkONZLXP5ctZSxyyxvC3-jzDs3c5KlI2zFU3fveP3Ux44NwYC0VRQYDlO8K1H2vFUeXnQTC6OZ9kWw9I6rpndmzcoHRJ7qYY99BX1kc70AxZ\\_gEO68HqRPS8adiw8nhgkIyM0kPb2tLsK4NKY2D66nVfVLLg816uS-vsyfRxPzT4WlS7MoJQaEjQtka-XTQmgpTSCbtmuWE-PZ5HLrZu40vjdLECkRrI=](https://vertexaisearch.cloud.google.com/grounding-api-redirect/AbF9wXFjkONZLXP5ctZSxyyxvC3-jzDs3c5KlI2zFU3fveP3Ux44NwYC0VRQYDlO8K1H2vFUeXnQTC6OZ9kWw9I6rpndmzcoHRJ7qYY99BX1kc70AxZ_gEO68HqRPS8adiw8nhgkIyM0kPb2tLsK4NKY2D66nVfVLLg816uS-vsyfRxPzT4WlS7MoJQaEjQtka-XTQmgpTSCbtmuWE-PZ5HLrZu40vjdLECkRrI=)\n> 13. [https://vertexaisearch.cloud.google.com/grounding-api-redirect/AbF9wXFJJtpXcRYa-WYB03YiXG7DLsfCFSIk8zq-lrJgkw95nX9mfI8KJ\\_oIvgTHC4aFm3ZVcFKYhVMY-rA-PCauPcbsdveYXb0Uxp9JBRC6ZEtf355nITZUeTRuJ3pqS5ly005lvRoNNIeASm2d22mG8FS7NJ2pyAkrKS3ath65WB2JjUaw24=](https://vertexaisearch.cloud.google.com/grounding-api-redirect/AbF9wXFJJtpXcRYa-WYB03YiXG7DLsfCFSIk8zq-lrJgkw95nX9mfI8KJ_oIvgTHC4aFm3ZVcFKYhVMY-rA-PCauPcbsdveYXb0Uxp9JBRC6ZEtf355nITZUeTRuJ3pqS5ly005lvRoNNIeASm2d22mG8FS7NJ2pyAkrKS3ath65WB2JjUaw24=)\n> 14. [https://vertexaisearch.cloud.google.com/grounding-api-redirect/AbF9wXGv85AcBaqKFD7LOUX7ryBJVzVmpAhGS5paeKRyi2tmKUTBifDzT6WnXo9lSN8GqOH9GpZir1NsG9tL8dutyryGvd05rDfwEZhbB2XphhelQ07zLAYzDj4bzgNlmWeIRWnMAnPXlUtrSl1t5qb9P20A-Yf-NPOACgaLUg==](https://vertexaisearch.cloud.google.com/grounding-api-redirect/AbF9wXGv85AcBaqKFD7LOUX7ryBJVzVmpAhGS5paeKRyi2tmKUTBifDzT6WnXo9lSN8GqOH9GpZir1NsG9tL8dutyryGvd05rDfwEZhbB2XphhelQ07zLAYzDj4bzgNlmWeIRWnMAnPXlUtrSl1t5qb9P20A-Yf-NPOACgaLUg==)\n> 15. [https://vertexaisearch.cloud.google.com/grounding-api-redirect/AbF9wXFvQY1-NB1aQFrNhMrIT0uozED3xzJR8x5UvAZLH6ljtgOq65M-jgEXPcgrBfUQw\\_vh9CmgP6sRx7mwc22r1Zxyc0jM5IYH1PZIh8HcSqeyfQBA3BHc1HXdDIq5Rcz50jwxzuErvp43RjsrqBEsheOT0f-WRiFOaoKiLBgLqtWauyDxE34=](https://vertexaisearch.cloud.google.com/grounding-api-redirect/AbF9wXFvQY1-NB1aQFrNhMrIT0uozED3xzJR8x5UvAZLH6ljtgOq65M-jgEXPcgrBfUQw_vh9CmgP6sRx7mwc22r1Zxyc0jM5IYH1PZIh8HcSqeyfQBA3BHc1HXdDIq5Rcz50jwxzuErvp43RjsrqBEsheOT0f-WRiFOaoKiLBgLqtWauyDxE34=)\n> 16. [https://vertexaisearch.cloud.google.com/grounding-api-redirect/AbF9wXFQpZVUIRdEAa23Jvr1HEG-CPDFHVClxx0BUvTY75TOjk6DipXuEHRVRYtle9sMJM-0edWcgne8iyqsJ7OH6fcyulmtZDNi0ff92qGxbv3ZwJWo36lrrjmAugq5wKCQmFu-S-K6aACAwbGM3RxM\\_eAdYtEd-7p63uFFRQ4=](https://vertexaisearch.cloud.google.com/grounding-api-redirect/AbF9wXFQpZVUIRdEAa23Jvr1HEG-CPDFHVClxx0BUvTY75TOjk6DipXuEHRVRYtle9sMJM-0edWcgne8iyqsJ7OH6fcyulmtZDNi0ff92qGxbv3ZwJWo36lrrjmAugq5wKCQmFu-S-K6aACAwbGM3RxM_eAdYtEd-7p63uFFRQ4=)\n> 17. [https://vertexaisearch.cloud.google.com/grounding-api-redirect/AbF9wXFd0-n9n5i07Epsp8QLYUH73MvW4iYtDO3gLueNZRN\\_xw-gY1P3PqLwWsXRhLBsNf6K2c8WxlE6hmVjxQX2PkDqk4Gy1HsDVFrooJyTGvz7f0pjwZWJhucuxEthTd02t010Jfnyfaudk9bMOGD5nwy85DDWmi7aZohSWNHDml6YIEJlqjLSGTuq7b1F7CSLVxbTiwc5kOG9hWxV-6L23zxqTLJrGpJ9fvY=](https://vertexaisearch.cloud.google.com/grounding-api-redirect/AbF9wXFd0-n9n5i07Epsp8QLYUH73MvW4iYtDO3gLueNZRN_xw-gY1P3PqLwWsXRhLBsNf6K2c8WxlE6hmVjxQX2PkDqk4Gy1HsDVFrooJyTGvz7f0pjwZWJhucuxEthTd02t010Jfnyfaudk9bMOGD5nwy85DDWmi7aZohSWNHDml6YIEJlqjLSGTuq7b1F7CSLVxbTiwc5kOG9hWxV-6L23zxqTLJrGpJ9fvY=)\n> 18. [https://vertexaisearch.cloud.google.com/grounding-api-redirect/AbF9wXEK8d5\\_nXMSGZXYhVHxfpi0SgxqRDG23IZJv69H7GMk3MQ2rXlbAo9R5EW\\_b-Pt6SrhO3sg\\_KCx4YPbQaXd-uNccUV1Rn9YY3epGYMngc9sZ5GL3knpIY\\_G12bzPgZ3bNDmtvwM9gFqq4jFz8Yx7o8l7htJE3gnTYiGY5VowP-i8MdfJPBFo-bNa\\_7-FPKIXGvcPUt5M9rHBNsInQ9xNkIGcCb-](https://vertexaisearch.cloud.google.com/grounding-api-redirect/AbF9wXEK8d5_nXMSGZXYhVHxfpi0SgxqRDG23IZJv69H7GMk3MQ2rXlbAo9R5EW_b-Pt6SrhO3sg_KCx4YPbQaXd-uNccUV1Rn9YY3epGYMngc9sZ5GL3knpIY_G12bzPgZ3bNDmtvwM9gFqq4jFz8Yx7o8l7htJE3gnTYiGY5VowP-i8MdfJPBFo-bNa_7-FPKIXGvcPUt5M9rHBNsInQ9xNkIGcCb-)\n> 19. [https://vertexaisearch.cloud.google.com/grounding-api-redirect/AbF9wXFVsxuldXhKQZds7yVxMdqeXqYuI-EVXwnoKbIXd1U4ukbVAgD3pe0spM1fGthltzCLH9xDHnQfstCv8ob9tP603DWuBRTI\\_rsEC45J6Yuar\\_IJiWIuBBjLKsC5tDBAnd9TP4f6rHQ=](https://vertexaisearch.cloud.google.com/grounding-api-redirect/AbF9wXFVsxuldXhKQZds7yVxMdqeXqYuI-EVXwnoKbIXd1U4ukbVAgD3pe0spM1fGthltzCLH9xDHnQfstCv8ob9tP603DWuBRTI_rsEC45J6Yuar_IJiWIuBBjLKsC5tDBAnd9TP4f6rHQ=)\n> 20. [https://vertexaisearch.cloud.google.com/grounding-api-redirect/AbF9wXGID8dgqbRE1UeTKWI9aQpCygEZQdLm1JmGVs\\_43djguxy4gOfIxzY6YYybl1lwTJK6kykVLcD5RgeSXxac1ShyKUUJ4xIcWOMwRtYxUR8sXKve1o5zZ56upCq8GCGjPzov\\_QU8hoQRTQokhlJurAymbJ3IGbwp711P8S-1rInpl6HkjxVSzSudZiCfmqUcU0th3A5NpNTpSreLJhBCdPEgBCB4QSuuObfklmB73gRrf4o1](https://vertexaisearch.cloud.google.com/grounding-api-redirect/AbF9wXGID8dgqbRE1UeTKWI9aQpCygEZQdLm1JmGVs_43djguxy4gOfIxzY6YYybl1lwTJK6kykVLcD5RgeSXxac1ShyKUUJ4xIcWOMwRtYxUR8sXKve1o5zZ56upCq8GCGjPzov_QU8hoQRTQokhlJurAymbJ3IGbwp711P8S-1rInpl6HkjxVSzSudZiCfmqUcU0th3A5NpNTpSreLJhBCdPEgBCB4QSuuObfklmB73gRrf4o1)\n> 21. [https://vertexaisearch.cloud.google.com/grounding-api-redirect/AbF9wXGY8lyUpByyEnAzFUdzMgQ0-\\_nGWlK9jxeG6hKmx4LUu34NP2g1AKbt-RnU96pYiXlUplj80Y6EbA4FsGVBkvJfREPUS4Xfad7wY7nqb9x8\\_e1Ka\\_daMHh7QYeodwKLXhDw\\_Zs8SxKSa8KPJ1jX7vhO6II5-sAMYvazMtsIm8eHbjFdNllDDjE=](https://vertexaisearch.cloud.google.com/grounding-api-redirect/AbF9wXGY8lyUpByyEnAzFUdzMgQ0-_nGWlK9jxeG6hKmx4LUu34NP2g1AKbt-RnU96pYiXlUplj80Y6EbA4FsGVBkvJfREPUS4Xfad7wY7nqb9x8_e1Ka_daMHh7QYeodwKLXhDw_Zs8SxKSa8KPJ1jX7vhO6II5-sAMYvazMtsIm8eHbjFdNllDDjE=)\n> 22. [https://vertexaisearch.cloud.google.com/grounding-api-redirect/AbF9wXF4pv5xsP3JH21-2wZWsP6LOKkXwbVuRuOaD7Or7\\_C8H0jhd0hXarEQ1djImwM5zVt1ZlXtvxMGQ\\_xrAOXDKIJnnmms2aBZnMK2rggI7bZlLdIzsQo5b25mJqF-6WIinMkNjSqEHOHagFSFpLT0f7YHHeyAHHQ3saRpk1tt](https://vertexaisearch.cloud.google.com/grounding-api-redirect/AbF9wXF4pv5xsP3JH21-2wZWsP6LOKkXwbVuRuOaD7Or7_C8H0jhd0hXarEQ1djImwM5zVt1ZlXtvxMGQ_xrAOXDKIJnnmms2aBZnMK2rggI7bZlLdIzsQo5b25mJqF-6WIinMkNjSqEHOHagFSFpLT0f7YHHeyAHHQ3saRpk1tt)\n> 23. [https://www.google.com/search?q=PewDiePie+usa+linux+arch](https://www.google.com/search?q=PewDiePie+usa+linux+arch)\n> 24. [https://vertexaisearch.cloud.google.com/grounding-api-redirect/AbF9\n"
          },
          "metadata": {}
        },
        {
          "output_type": "stream",
          "name": "stdout",
          "text": [
            "--------------------------------------------------------------\n",
            "\n",
            "--- 📝 Resultado do Agente 4 (Erros) ---\n",
            "\n"
          ]
        },
        {
          "output_type": "display_data",
          "data": {
            "text/plain": [
              "<IPython.core.display.Markdown object>"
            ],
            "text/markdown": "> Com base na análise detalhada e nas fontes confiáveis pesquisadas, aqui estão os erros identificados no texto original, juntamente com as correções sugeridas e as respectivas fontes:\n> \n> **Erro 1:**\n> \n> *   **Trecho Errado:** \"Não é nenhuma questão do seu computador ser rápido o suficiente pro Windows 11, né? Essa questão. Tem uns requerimentos de hardware que se o computador não tiver, você não roda Windows.\"\n> *   **Por que está errado:** Essa afirmação minimiza a importância da velocidade do computador em relação aos requisitos do Windows 11. Embora os requisitos de hardware sejam mandatórios, a velocidade do processador e outros componentes ainda é relevante para uma experiência de uso satisfatória.\n> *   **Correção:** \"Embora ter um computador rápido seja importante, o Windows 11 possui requisitos de hardware específicos que precisam ser atendidos para que o sistema possa ser instalado. Mesmo que o processador seja capaz, a falta de outros requisitos impede a instalação.\"\n> *   **Fonte:** \\[8], \\[17], \\[22] (Requisitos de hardware do Windows 11)\n> \n> **Erro 2:**\n> \n> *   **Trecho Errado:** \"Vai chegar um momento que vai ser, eu não sei se já acabou de fato, vocês estão anunciando que vai acabar, mas vai ficar inviável usar o Windows 10 porque você para de receber atualização de segurança.\"\n> *   **Por que está errado:** O fim do suporte ao Windows 10 já tem uma data definida.\n> *   **Correção:** \"O suporte ao Windows 10 terminará em 14 de outubro de 2025. Após essa data, não haverá mais atualizações de segurança, tornando o sistema vulnerável.\"\n> *   **Fonte:** \\[2], \\[5], \\[9], \\[12], \\[15], \\[28], \\[36] (Fim do suporte ao Windows 10)\n> \n> **Erro 3:**\n> \n> *   **Trecho Errado:** \"Não, na verdade, eh, o certo seria falar no Linux porque na verdade é um con não sei para nerd. Enfim, eh, sistemas baseados em Linux, você pode baixar uma distribuição distro, que a galera chama, que seja simples de instalar. Você tem vários níveis de de quão avançado e quão complicado é, quão fácil, quão difícil é de usar, qual o nível de conhecimento que você tem que ter do sistema operacional para usar. Você pode baixar um que já vem com tudo pronto para ser um Mint da vida, sabe? Se se você quiser uma coisa qualquer, tem uma versão do Bunto Cubunto que é que é mais fácil, Zorim, para você que não saca nada.\"\n> *   **Por que está errado:** Há diversos erros de concordância nominal e verbal, tornando o trecho confuso. Além disso, o correto é Ubuntu, não \"Bunto Cubunto\".\n> *   **Correção:** \"Na verdade, o termo correto seria 'Linux'. Sistemas baseados em Linux permitem que você baixe uma distribuição (ou 'distro', como alguns chamam) que seja simples de instalar. Existem vários níveis de complexidade, desde distribuições mais avançadas até as mais fáceis de usar, dependendo do seu nível de conhecimento do sistema operacional. Por exemplo, você pode baixar uma distribuição como o Mint, que já vem com tudo pronto. Se você preferir algo ainda mais fácil, pode optar pelo Ubuntu ou Zorin OS, ideais para quem não tem experiência.\"\n> *   **Fonte:** \\[3], \\[4], \\[13], \\[14], \\[16], \\[21] (Distribuições Linux para iniciantes)\n> \n> **Porcentagem de Conteúdo Comprometido por Erros:**\n> \n> Considerando o tamanho do texto original e a quantidade de erros identificados, estima-se que aproximadamente **12%** do conteúdo está comprometido por informações imprecisas ou erros de concordância.\n> \n> **Confiabilidade do Texto Original:**\n> \n> Com base na porcentagem de erros identificados, a confiabilidade do texto original é classificada como:\n> \n> **🔵 Bom (8% a 20%)**\n> \n> O texto aborda tópicos relevantes e apresenta informações gerais corretas, mas contém imprecisões e erros que podem prejudicar a compreensão do leitor.\n> \n"
          },
          "metadata": {}
        }
      ]
    }
  ]
}