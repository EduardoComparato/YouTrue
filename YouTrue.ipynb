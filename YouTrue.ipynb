{
  "nbformat": 4,
  "nbformat_minor": 0,
  "metadata": {
    "colab": {
      "provenance": [],
      "authorship_tag": "ABX9TyN7S5SutK0Awq163o/hy0ZL",
      "include_colab_link": true
    },
    "kernelspec": {
      "name": "python3",
      "display_name": "Python 3"
    },
    "language_info": {
      "name": "python"
    }
  },
  "cells": [
    {
      "cell_type": "markdown",
      "metadata": {
        "id": "view-in-github",
        "colab_type": "text"
      },
      "source": [
        "<a href=\"https://colab.research.google.com/github/EduardoComparato/YouTrue/blob/main/YouTrue.ipynb\" target=\"_parent\"><img src=\"https://colab.research.google.com/assets/colab-badge.svg\" alt=\"Open In Colab\"/></a>"
      ]
    },
    {
      "cell_type": "code",
      "execution_count": null,
      "metadata": {
        "id": "GTXsaAi1zlAM"
      },
      "outputs": [],
      "source": [
        "%pip -q install google-genai\n",
        "\n"
      ]
    },
    {
      "cell_type": "code",
      "source": [
        "# Instalação pacote do Youtube Transcript\n",
        "%pip -q install youtube-transcript-api"
      ],
      "metadata": {
        "id": "C1XMwPZNfsHa"
      },
      "execution_count": null,
      "outputs": []
    },
    {
      "cell_type": "code",
      "source": [
        "# Configura a API Key do Google Gemini\n",
        "\n",
        "import os\n",
        "from google.colab import userdata\n",
        "\n",
        "os.environ[\"GOOGLE_API_KEY\"] = userdata.get('GOOGLE_API_KEY')"
      ],
      "metadata": {
        "id": "vn53kDAvLbMV"
      },
      "execution_count": null,
      "outputs": []
    },
    {
      "cell_type": "code",
      "source": [
        "# Configura o cliente da SDK do Gemini\n",
        "\n",
        "from google import genai\n",
        "\n",
        "client = genai.Client()\n",
        "\n",
        "MODEL_ID = \"gemini-2.0-flash\""
      ],
      "metadata": {
        "id": "2zn9rHFWLj8f"
      },
      "execution_count": null,
      "outputs": []
    },
    {
      "cell_type": "code",
      "source": [
        "# Pergunta ao Gemini uma informação mais recente que seu conhecimento\n",
        "\n",
        "from IPython.display import HTML, Markdown"
      ],
      "metadata": {
        "id": "jOux1E1ZLr-8"
      },
      "execution_count": null,
      "outputs": []
    },
    {
      "cell_type": "code",
      "source": [
        "# Instalar Framework de agentes do Google ################################################\n",
        "!pip install -q google-adk"
      ],
      "metadata": {
        "id": "_iSxkyJ2L0Yy"
      },
      "execution_count": null,
      "outputs": []
    },
    {
      "cell_type": "code",
      "source": [
        "from google.adk.agents import Agent\n",
        "from google.adk.runners import Runner\n",
        "from google.adk.sessions import InMemorySessionService\n",
        "from google.adk.tools import google_search\n",
        "from google.genai import types  # Para criar conteúdos (Content e Part)\n",
        "from datetime import date\n",
        "import textwrap # Para formatar melhor a saída de texto\n",
        "from IPython.display import display, Markdown # Para exibir texto formatado no Colab\n",
        "import requests # Para fazer requisições HTTP\n",
        "import warnings\n",
        "\n",
        "warnings.filterwarnings(\"ignore\")"
      ],
      "metadata": {
        "id": "6jHXDRQ6MM-0"
      },
      "execution_count": null,
      "outputs": []
    },
    {
      "cell_type": "code",
      "source": [
        "import uuid\n",
        "from typing import Optional\n",
        "\n",
        "# Função auxiliar que envia uma mensagem para um agente via Runner e retorna a resposta final\n",
        "def call_agent(agent: Agent, message_text: str, user_id: Optional[str] = None, session_id: Optional[str] = None) -> str:\n",
        "    # Cria um serviço de sessão em memória\n",
        "    session_service = InMemorySessionService()\n",
        "\n",
        "    # Gera user_id e session_id se não forem fornecidos\n",
        "    user_id_to_use = user_id if user_id else str(uuid.uuid4())\n",
        "    session_id_to_use = session_id if session_id else str(uuid.uuid4())\n",
        "    # Cria uma nova sessão (você pode personalizar os IDs conforme necessário)\n",
        "    session = session_service.create_session(app_name=agent.name, user_id=user_id_to_use, session_id=session_id_to_use)\n",
        "    # Cria um Runner para o agente\n",
        "    runner = Runner(agent=agent, app_name=agent.name, session_service=session_service)\n",
        "    # Cria o conteúdo da mensagem de entrada\n",
        "    content = types.Content(role=\"user\", parts=[types.Part(text=message_text)])\n",
        "\n",
        "    final_response = \"\"\n",
        "    # Itera assincronamente pelos eventos retornados durante a execução do agente\n",
        "    for event in runner.run(user_id=user_id_to_use, session_id=session_id_to_use, new_message=content):\n",
        "        if event.is_final_response():\n",
        "          if event.content is not None:\n",
        "            for part in event.content.parts:\n",
        "              if part.text is not None:\n",
        "               final_response += part.text\n",
        "               final_response += \"\\n\"\n",
        "    return final_response"
      ],
      "metadata": {
        "id": "TatLDC0VMXuy"
      },
      "execution_count": null,
      "outputs": []
    },
    {
      "cell_type": "code",
      "source": [
        "def to_markdown(text):\n",
        "  text = text.replace('•', '  *')\n",
        "  return Markdown(textwrap.indent(text, '> ', predicate=lambda _: True))"
      ],
      "metadata": {
        "id": "rPUgQ8EeO0KJ"
      },
      "execution_count": null,
      "outputs": []
    },
    {
      "cell_type": "code",
      "source": [
        "##########################################\n",
        "# --- Transcritor de Vídeos --- #\n",
        "##########################################\n",
        "def API_transcritor(ID_digitado):\n",
        "    try:\n",
        "        from youtube_transcript_api import YouTubeTranscriptApi, NoTranscriptFound, TranscriptsDisabled\n",
        "\n",
        "        ytt_api = YouTubeTranscriptApi()\n",
        "        transcricao = ytt_api.fetch(ID_digitado, languages=['pt-BR', 'en-US', 'pt', 'en','es'])\n",
        "\n",
        "        return transcricao\n",
        "    except NoTranscriptFound:\n",
        "        print(f\"No transcript found for video ID: {ID_digitado} in the specified languages or any other language.\")\n",
        "        return None\n",
        "    except TranscriptsDisabled:\n",
        "        print(f\"Transcripts are disabled for video ID: {ID_digitado}.\")\n",
        "        return None\n",
        "    except Exception as e:\n",
        "        print(f\"An error occurred while fetching the transcript for video ID {ID_digitado}: {e}\")\n",
        "        return None\n",
        "    except TranscriptsDisabled:\n",
        "        print(f\"Transcripts are disabled for video ID: {ID_digitado}.\")\n",
        "        return None\n",
        "    except Exception as e:\n",
        "        print(f\"An error occurred while fetching the transcript for video ID {ID_digitado}: {e}\")\n",
        "        return None"
      ],
      "metadata": {
        "id": "lzxCkq10PyNW"
      },
      "execution_count": null,
      "outputs": []
    },
    {
      "cell_type": "code",
      "source": [
        "################################################\n",
        "# --- Agente 1: Informações do vídeo --- #\n",
        "################################################\n",
        "from googleapiclient.discovery import build\n",
        "\n",
        "YOUTUBE_API_KEY = userdata.get(\"YOUTUBE_API_KEY\")\n",
        "youtube = build('youtube', 'v3', developerKey=YOUTUBE_API_KEY)\n",
        "\n",
        "def agente_informativo(ID_digitado):\n",
        "    try:\n",
        "        request = youtube.videos().list(\n",
        "            part=\"snippet,contentDetails\",\n",
        "            id=ID_digitado\n",
        "        )\n",
        "        response = request.execute()\n",
        "\n",
        "        if response and 'items' in response and response['items']:\n",
        "            video_info = response['items'][0]\n",
        "            title = video_info['snippet']['title']\n",
        "            duration = video_info['contentDetails']['duration']\n",
        "            thumbnail = video_info['snippet']['thumbnails']['high']['url']\n",
        "\n",
        "            return {\n",
        "                \"title\": title,\n",
        "                \"duration\": duration,\n",
        "                \"thumbnail\": thumbnail\n",
        "            }\n",
        "        else:\n",
        "            return \"Vídeo não encontrado ou informações indisponíveis.\"\n",
        "    except Exception as e:\n",
        "        return f\"Ocorreu um erro ao buscar as informações do vídeo: {e}\""
      ],
      "metadata": {
        "id": "7PToxqFpE-Bs"
      },
      "execution_count": null,
      "outputs": []
    },
    {
      "cell_type": "code",
      "source": [
        "################################################\n",
        "# --- Agente 2: Revisor de texto --- #\n",
        "################################################\n",
        "def agente_revisor(transcricao):\n",
        "    revisor = Agent(\n",
        "        name=\"agente_revisor\",\n",
        "        model=\"gemini-2.0-flash\",\n",
        "        instruction=\"\"\"\n",
        "        Você é um revisor de texto. Quero que pegue o texto mais recente fornecido pelo transcritor e retire elementos de minutagem e tópico,\n",
        "        somente deixando o texto, separando em parágrafos ou não somente conforme for necessário. Caso o texto esteja em outra língua,\n",
        "        sem ser o português. Traduza para o português.\n",
        "        \"\"\",\n",
        "        description=\"Agente que revisa textos\",\n",
        "    )\n",
        "\n",
        "    entrada_do_agente_revisor = f\"Texto a ser revisado: {transcricao}\"\n",
        "    # Executa o agente\n",
        "    texto_revisado = call_agent(revisor, entrada_do_agente_revisor)\n",
        "    return texto_revisado"
      ],
      "metadata": {
        "id": "Occhr0IzU4Pk"
      },
      "execution_count": null,
      "outputs": []
    },
    {
      "cell_type": "code",
      "source": [
        "######################################\n",
        "# --- Agente 3: Buscador e Primeiro Verificador --- #\n",
        "######################################\n",
        "def agente_buscador(texto_revisado):\n",
        "    buscador = Agent(\n",
        "        name=\"agente_buscador\",\n",
        "        model=\"gemini-2.0-flash\",\n",
        "        instruction=\"\"\"\n",
        "            Você é um buscador de fontes informacionais. A partir do texto fornecido pelo revisor,\n",
        "            detecte o tema e pontos abordados e procure sobre em, NO MÁXIMO, 20 fontes confiáveis e\n",
        "            de relevância no tema, onde as informações sejam por texto\n",
        "            (evitando artigos de opinião e fontes muito imparciais).\n",
        "            Enfatize, nessas fontes, as partes onde ocorram incongruências entre informações do texto e das fontes.\n",
        "            Ao final, forneça os links das fontes pesquisadas.\n",
        "            \"\"\",\n",
        "        description=\"Agente que busca fontes relacionadas e faz uma primeira comparação\",\n",
        "        tools=[google_search]\n",
        "    )\n",
        "    entrada_do_agente_buscador = f\"Texto revisado: {texto_revisado}\"\n",
        "    # Executa o agente\n",
        "    busca_comparada = call_agent(buscador, entrada_do_agente_buscador)\n",
        "    return busca_comparada"
      ],
      "metadata": {
        "id": "VZJx1jFTcA08"
      },
      "execution_count": null,
      "outputs": []
    },
    {
      "cell_type": "code",
      "source": [
        "##########################################\n",
        "# --- Agente 4: Aponta-erros --- #\n",
        "##########################################\n",
        "def agente_erros(texto_revisado, rascunho_gerado):\n",
        "    erros = Agent(\n",
        "        name=\"agente_erros\",\n",
        "        model=\"gemini-2.0-flash\",\n",
        "        instruction=\"\"\"\n",
        "            Você aponta os erros de uma fonte informacional, tendo como base um texto e uma análise subsequente\n",
        "            constando links de fontes confiáveis. Quero que vasculhe essas fontes, para confirmar se não há informações erradas no texto original.\n",
        "\n",
        "\n",
        "            ###\n",
        "\n",
        "\n",
        "            Com a análise de erros pronta, indique os trechos que estão errados, o porquê de estarem errados, e uma correção para tais trechos.\n",
        "            Para cada correção, aponte a fonte que está sendo utilizada. Ao fim, indique a porcentagem do quanto o conteúdo do texto original estava\n",
        "            comprometido por erros de informação.\n",
        "\n",
        "\n",
        "            ###\n",
        "\n",
        "\n",
        "            Ao fim, indique a confiabilidade do texto original a partir de 5 níveis, indicados por emojis,\n",
        "            levando em consideração a porcentagem estabelecida anteriormente.\n",
        "\n",
        "            Grau de confiabilidade:\n",
        "\n",
        "            Confiável (0% a 7% de erros) -> 🟢\n",
        "\n",
        "            Bom (8% a 20%) -> 🔵\n",
        "\n",
        "            Mediano (20% a 45%) -> 🟡\n",
        "\n",
        "            Ruim (46% a 60%) -> 🟠\n",
        "\n",
        "            Grave (61% a 100%) -> 🔴\n",
        "\n",
        "            ###\n",
        "\n",
        "            Caso o texto final esteja em inglês, passe para o português.\n",
        "            \"\"\",\n",
        "        description=\"Agente que aponta erros, correções e grau de confiabilidade.\",\n",
        "        tools=[google_search]\n",
        "    )\n",
        "    entrada_do_agente_erros = f\"Texto original: {texto_revisado}, Buscador: {busca_comparada}\"\n",
        "    # Executa o agente\n",
        "    texto_corrigido = call_agent(erros, entrada_do_agente_erros)\n",
        "    return texto_corrigido"
      ],
      "metadata": {
        "id": "4v5HYygfc_qF"
      },
      "execution_count": null,
      "outputs": []
    },
    {
      "cell_type": "code",
      "source": [
        "print(\"🚀 Iniciando o Sistema de Verificação de Informações para YouTube e textos transcritos com 4 Agentes 🚀\")\n",
        "\n",
        "# --- Função que detecta se o conteúdo é um link ou um texto ---\n",
        "def obter_tipo_e_conteudo():\n",
        "    \"\"\"\n",
        "    Oferece ao usuário a opção de inserir um link ou texto completo\n",
        "    através de uma lista selecionável.\n",
        "\n",
        "    Retorna:\n",
        "        tuple: Uma tupla contendo o tipo de entrada ('link' ou 'texto')\n",
        "               e o conteúdo inserido pelo usuário.\n",
        "    \"\"\"\n",
        "    opcoes = [\"ID\", \"Texto Completo\"]\n",
        "    print(\"Tipos de análises disponíveis: \")\n",
        "    for i, opcao in enumerate(opcoes):\n",
        "        print(f\"{i + 1}. {opcao}\")\n",
        "\n",
        "    while True:\n",
        "        try:\n",
        "            escolha = int(input(\"Digite o número da sua escolha: \"))\n",
        "            if 1 <= escolha <= len(opcoes):\n",
        "                tipo = \"ID\" if escolha == 1 else \"texto\"\n",
        "                if tipo == \"ID\":\n",
        "                  conteudo = input(f\"🕵️ Insira o {opcoes[escolha - 1]} que deseja analisar: \")\n",
        "                else:\n",
        "                  conteudo = input(f\"🕵️ Insira o {opcoes[escolha - 1].lower()} que deseja analisar: \")\n",
        "                return tipo, conteudo\n",
        "            else:\n",
        "                print(\"Opção inválida. Por favor, digite um número da lista.\")\n",
        "        except ValueError:\n",
        "            print(\"Entrada inválida. Por favor, digite um número.\")\n",
        "\n",
        "# Obtém o tipo de entrada e o conteúdo\n",
        "tipo, conteudo = obter_tipo_e_conteudo()\n",
        "\n",
        "# Agora você pode usar as variáveis 'tipo' e 'conteudo'\n",
        "if tipo == \"ID\":\n",
        "    ID_digitado = conteudo\n",
        "    print(f\"\\nVocê inseriu um ID: {ID_digitado}\")\n",
        "    # Aqui você pode adicionar o código específico para lidar com links\n",
        "elif tipo == \"texto\":\n",
        "    texto_completo = conteudo\n",
        "    print(f\"\\nVocê inseriu o seguinte texto:\\n{texto_completo}\")\n",
        "    # Aqui você pode adicionar o código específico para lidar com o texto completo\n",
        "\n",
        "\n",
        "####\n",
        "\n",
        "\n",
        "# Inserir lógica do sistema de agentes ################################################\n",
        "if tipo is None or conteudo is None:\n",
        "\n",
        "    print(\"Infelizmente não podemos analisar o vazio!\")\n",
        "\n",
        "else:\n",
        "\n",
        "    if tipo == \"ID\":\n",
        "\n",
        "      print(f\"Tudo bem! Vamos verificar as informações que constam em {conteudo}\")\n",
        "\n",
        "      print(f\"As informações deste vídeo são: \\n\")\n",
        "\n",
        "      print(agente_informativo(ID_digitado))\n",
        "\n",
        "      print(\"--------------------------------------------------------------\")\n",
        "\n",
        "    else:\n",
        "\n",
        "      print(\"Maravilha! Vamos então verificar o texto que você inseriu\")\n",
        "\n",
        "      print(\"--------------------------------------------------------------\")\n",
        "\n",
        "\n",
        "    if tipo == \"ID\":\n",
        "\n",
        "      print(\"\\n--- 📝 Resultado do Agente 1 (Transcritor) ---\\n\")\n",
        "\n",
        "      transcricao = API_transcritor(ID_digitado)\n",
        "\n",
        "      print(\"--------------------------------------------------------------\")\n",
        "\n",
        "    else:\n",
        "\n",
        "      if transcricao is None:\n",
        "\n",
        "          print(\"🚫 Não foi possível obter a transcrição. Encerrando o processo.\")\n",
        "\n",
        "      else:\n",
        "\n",
        "        transcricao = texto_completo\n",
        "\n",
        "\n",
        "    texto_revisado = agente_revisor(transcricao)\n",
        "\n",
        "    print(\"\\n--- 📝 Resultado do Agente 2 (Revisor) ---\\n\")\n",
        "\n",
        "    display(to_markdown(texto_revisado))\n",
        "\n",
        "    print(\"--------------------------------------------------------------\")\n",
        "\n",
        "\n",
        "    busca_comparada = agente_buscador(texto_revisado)\n",
        "\n",
        "    print(\"\\n--- 📝 Resultado do Agente 3 (Buscador) ---\\n\")\n",
        "\n",
        "    display(to_markdown(busca_comparada))\n",
        "\n",
        "    print(\"--------------------------------------------------------------\")\n",
        "\n",
        "\n",
        "    texto_corrigido = agente_erros(texto_revisado, busca_comparada)\n",
        "\n",
        "    print(\"\\n--- 📝 Resultado do Agente 4 (Erros) ---\\n\")\n",
        "\n",
        "    display(to_markdown(texto_corrigido))"
      ],
      "metadata": {
        "colab": {
          "base_uri": "https://localhost:8080/",
          "height": 914
        },
        "id": "PLfOrgCYeQ0v",
        "outputId": "5d7be970-1769-4f90-e10f-24e05d0d0ed0",
        "collapsed": true
      },
      "execution_count": null,
      "outputs": [
        {
          "output_type": "stream",
          "name": "stdout",
          "text": [
            "🚀 Iniciando o Sistema de Verificação de Informações para YouTube e textos transcritos com 4 Agentes 🚀\n",
            "Tipos de análises disponíveis: \n",
            "1. ID\n",
            "2. Texto Completo\n",
            "Digite o número da sua escolha: 1\n",
            "🕵️ Insira o ID que deseja analisar: Qd30j1C68OQ\n",
            "\n",
            "Você inseriu um ID: Qd30j1C68OQ\n",
            "Tudo bem! Vamos verificar as informações que constam em Qd30j1C68OQ\n",
            "As informações deste vídeo são: \n",
            "\n",
            "{'title': 'Oscar Medina En la casa de mi padre', 'duration': 'PT3M26S', 'thumbnail': 'https://i.ytimg.com/vi/Qd30j1C68OQ/hqdefault.jpg'}\n",
            "--------------------------------------------------------------\n",
            "\n",
            "--- 📝 Resultado do Agente 1 (Transcritor) ---\n",
            "\n",
            "--------------------------------------------------------------\n",
            "\n",
            "--- 📝 Resultado do Agente 2 (Revisor) ---\n",
            "\n"
          ]
        },
        {
          "output_type": "display_data",
          "data": {
            "text/plain": [
              "<IPython.core.display.Markdown object>"
            ],
            "text/markdown": "> Existe um lugar, um lugar muito belo, de belas moradas onde Jesus Cristo me convida a morar. Ele disse: \"Não temas, não vivas turbado, pois onde eu moro, ali tu comigo também vivarás.\"\n> \n> Na casa de meu Pai há moradas para ti, na casa de meu Pai há moradas para ti, na casa de meu Pai há moradas para ti.\n> \n> Minha paz vos deixo, esta paz de Deus e não como o mundo, o qual vai sem rumo, eu vos dou. E se eu me for preparar tudo, voltarei de novo para que comigo vós esteis.\n> \n> Na casa de meu Pai há moradas para ti, na casa de meu Pai há moradas para ti, na casa de meu Pai há moradas para ti.\n> \n> Na casa de meu Pai, moradas para ti.\n"
          },
          "metadata": {}
        },
        {
          "output_type": "stream",
          "name": "stdout",
          "text": [
            "--------------------------------------------------------------\n"
          ]
        },
        {
          "output_type": "error",
          "ename": "KeyboardInterrupt",
          "evalue": "",
          "traceback": [
            "\u001b[0;31m---------------------------------------------------------------------------\u001b[0m",
            "\u001b[0;31mKeyboardInterrupt\u001b[0m                         Traceback (most recent call last)",
            "\u001b[0;32m<ipython-input-294-67e6840b2d9b>\u001b[0m in \u001b[0;36m<cell line: 0>\u001b[0;34m()\u001b[0m\n\u001b[1;32m    100\u001b[0m \u001b[0;34m\u001b[0m\u001b[0m\n\u001b[1;32m    101\u001b[0m \u001b[0;34m\u001b[0m\u001b[0m\n\u001b[0;32m--> 102\u001b[0;31m     \u001b[0mbusca_comparada\u001b[0m \u001b[0;34m=\u001b[0m \u001b[0magente_buscador\u001b[0m\u001b[0;34m(\u001b[0m\u001b[0mtexto_revisado\u001b[0m\u001b[0;34m)\u001b[0m\u001b[0;34m\u001b[0m\u001b[0;34m\u001b[0m\u001b[0m\n\u001b[0m\u001b[1;32m    103\u001b[0m \u001b[0;34m\u001b[0m\u001b[0m\n\u001b[1;32m    104\u001b[0m     \u001b[0mprint\u001b[0m\u001b[0;34m(\u001b[0m\u001b[0;34m\"\\n--- 📝 Resultado do Agente 3 (Buscador) ---\\n\"\u001b[0m\u001b[0;34m)\u001b[0m\u001b[0;34m\u001b[0m\u001b[0;34m\u001b[0m\u001b[0m\n",
            "\u001b[0;32m<ipython-input-285-be43ace81e47>\u001b[0m in \u001b[0;36magente_buscador\u001b[0;34m(texto_revisado)\u001b[0m\n\u001b[1;32m     19\u001b[0m     \u001b[0mentrada_do_agente_buscador\u001b[0m \u001b[0;34m=\u001b[0m \u001b[0;34mf\"Texto revisado: {texto_revisado}\"\u001b[0m\u001b[0;34m\u001b[0m\u001b[0;34m\u001b[0m\u001b[0m\n\u001b[1;32m     20\u001b[0m     \u001b[0;31m# Executa o agente\u001b[0m\u001b[0;34m\u001b[0m\u001b[0;34m\u001b[0m\u001b[0m\n\u001b[0;32m---> 21\u001b[0;31m     \u001b[0mbusca_comparada\u001b[0m \u001b[0;34m=\u001b[0m \u001b[0mcall_agent\u001b[0m\u001b[0;34m(\u001b[0m\u001b[0mbuscador\u001b[0m\u001b[0;34m,\u001b[0m \u001b[0mentrada_do_agente_buscador\u001b[0m\u001b[0;34m)\u001b[0m\u001b[0;34m\u001b[0m\u001b[0;34m\u001b[0m\u001b[0m\n\u001b[0m\u001b[1;32m     22\u001b[0m     \u001b[0;32mreturn\u001b[0m \u001b[0mbusca_comparada\u001b[0m\u001b[0;34m\u001b[0m\u001b[0;34m\u001b[0m\u001b[0m\n",
            "\u001b[0;32m<ipython-input-280-c2335a18e217>\u001b[0m in \u001b[0;36mcall_agent\u001b[0;34m(agent, message_text, user_id, session_id)\u001b[0m\n\u001b[1;32m     19\u001b[0m     \u001b[0mfinal_response\u001b[0m \u001b[0;34m=\u001b[0m \u001b[0;34m\"\"\u001b[0m\u001b[0;34m\u001b[0m\u001b[0;34m\u001b[0m\u001b[0m\n\u001b[1;32m     20\u001b[0m     \u001b[0;31m# Itera assincronamente pelos eventos retornados durante a execução do agente\u001b[0m\u001b[0;34m\u001b[0m\u001b[0;34m\u001b[0m\u001b[0m\n\u001b[0;32m---> 21\u001b[0;31m     \u001b[0;32mfor\u001b[0m \u001b[0mevent\u001b[0m \u001b[0;32min\u001b[0m \u001b[0mrunner\u001b[0m\u001b[0;34m.\u001b[0m\u001b[0mrun\u001b[0m\u001b[0;34m(\u001b[0m\u001b[0muser_id\u001b[0m\u001b[0;34m=\u001b[0m\u001b[0muser_id_to_use\u001b[0m\u001b[0;34m,\u001b[0m \u001b[0msession_id\u001b[0m\u001b[0;34m=\u001b[0m\u001b[0msession_id_to_use\u001b[0m\u001b[0;34m,\u001b[0m \u001b[0mnew_message\u001b[0m\u001b[0;34m=\u001b[0m\u001b[0mcontent\u001b[0m\u001b[0;34m)\u001b[0m\u001b[0;34m:\u001b[0m\u001b[0;34m\u001b[0m\u001b[0;34m\u001b[0m\u001b[0m\n\u001b[0m\u001b[1;32m     22\u001b[0m         \u001b[0;32mif\u001b[0m \u001b[0mevent\u001b[0m\u001b[0;34m.\u001b[0m\u001b[0mis_final_response\u001b[0m\u001b[0;34m(\u001b[0m\u001b[0;34m)\u001b[0m\u001b[0;34m:\u001b[0m\u001b[0;34m\u001b[0m\u001b[0;34m\u001b[0m\u001b[0m\n\u001b[1;32m     23\u001b[0m           \u001b[0;32mif\u001b[0m \u001b[0mevent\u001b[0m\u001b[0;34m.\u001b[0m\u001b[0mcontent\u001b[0m \u001b[0;32mis\u001b[0m \u001b[0;32mnot\u001b[0m \u001b[0;32mNone\u001b[0m\u001b[0;34m:\u001b[0m\u001b[0;34m\u001b[0m\u001b[0;34m\u001b[0m\u001b[0m\n",
            "\u001b[0;32m/usr/local/lib/python3.11/dist-packages/google/adk/runners.py\u001b[0m in \u001b[0;36mrun\u001b[0;34m(self, user_id, session_id, new_message, run_config)\u001b[0m\n\u001b[1;32m    145\u001b[0m     \u001b[0;31m# consumes and re-yield the events from background thread.\u001b[0m\u001b[0;34m\u001b[0m\u001b[0;34m\u001b[0m\u001b[0m\n\u001b[1;32m    146\u001b[0m     \u001b[0;32mwhile\u001b[0m \u001b[0;32mTrue\u001b[0m\u001b[0;34m:\u001b[0m\u001b[0;34m\u001b[0m\u001b[0;34m\u001b[0m\u001b[0m\n\u001b[0;32m--> 147\u001b[0;31m       \u001b[0mevent\u001b[0m \u001b[0;34m=\u001b[0m \u001b[0mevent_queue\u001b[0m\u001b[0;34m.\u001b[0m\u001b[0mget\u001b[0m\u001b[0;34m(\u001b[0m\u001b[0;34m)\u001b[0m\u001b[0;34m\u001b[0m\u001b[0;34m\u001b[0m\u001b[0m\n\u001b[0m\u001b[1;32m    148\u001b[0m       \u001b[0;32mif\u001b[0m \u001b[0mevent\u001b[0m \u001b[0;32mis\u001b[0m \u001b[0;32mNone\u001b[0m\u001b[0;34m:\u001b[0m\u001b[0;34m\u001b[0m\u001b[0;34m\u001b[0m\u001b[0m\n\u001b[1;32m    149\u001b[0m         \u001b[0;32mbreak\u001b[0m\u001b[0;34m\u001b[0m\u001b[0;34m\u001b[0m\u001b[0m\n",
            "\u001b[0;32m/usr/lib/python3.11/queue.py\u001b[0m in \u001b[0;36mget\u001b[0;34m(self, block, timeout)\u001b[0m\n\u001b[1;32m    169\u001b[0m             \u001b[0;32melif\u001b[0m \u001b[0mtimeout\u001b[0m \u001b[0;32mis\u001b[0m \u001b[0;32mNone\u001b[0m\u001b[0;34m:\u001b[0m\u001b[0;34m\u001b[0m\u001b[0;34m\u001b[0m\u001b[0m\n\u001b[1;32m    170\u001b[0m                 \u001b[0;32mwhile\u001b[0m \u001b[0;32mnot\u001b[0m \u001b[0mself\u001b[0m\u001b[0;34m.\u001b[0m\u001b[0m_qsize\u001b[0m\u001b[0;34m(\u001b[0m\u001b[0;34m)\u001b[0m\u001b[0;34m:\u001b[0m\u001b[0;34m\u001b[0m\u001b[0;34m\u001b[0m\u001b[0m\n\u001b[0;32m--> 171\u001b[0;31m                     \u001b[0mself\u001b[0m\u001b[0;34m.\u001b[0m\u001b[0mnot_empty\u001b[0m\u001b[0;34m.\u001b[0m\u001b[0mwait\u001b[0m\u001b[0;34m(\u001b[0m\u001b[0;34m)\u001b[0m\u001b[0;34m\u001b[0m\u001b[0;34m\u001b[0m\u001b[0m\n\u001b[0m\u001b[1;32m    172\u001b[0m             \u001b[0;32melif\u001b[0m \u001b[0mtimeout\u001b[0m \u001b[0;34m<\u001b[0m \u001b[0;36m0\u001b[0m\u001b[0;34m:\u001b[0m\u001b[0;34m\u001b[0m\u001b[0;34m\u001b[0m\u001b[0m\n\u001b[1;32m    173\u001b[0m                 \u001b[0;32mraise\u001b[0m \u001b[0mValueError\u001b[0m\u001b[0;34m(\u001b[0m\u001b[0;34m\"'timeout' must be a non-negative number\"\u001b[0m\u001b[0;34m)\u001b[0m\u001b[0;34m\u001b[0m\u001b[0;34m\u001b[0m\u001b[0m\n",
            "\u001b[0;32m/usr/lib/python3.11/threading.py\u001b[0m in \u001b[0;36mwait\u001b[0;34m(self, timeout)\u001b[0m\n\u001b[1;32m    325\u001b[0m         \u001b[0;32mtry\u001b[0m\u001b[0;34m:\u001b[0m    \u001b[0;31m# restore state no matter what (e.g., KeyboardInterrupt)\u001b[0m\u001b[0;34m\u001b[0m\u001b[0;34m\u001b[0m\u001b[0m\n\u001b[1;32m    326\u001b[0m             \u001b[0;32mif\u001b[0m \u001b[0mtimeout\u001b[0m \u001b[0;32mis\u001b[0m \u001b[0;32mNone\u001b[0m\u001b[0;34m:\u001b[0m\u001b[0;34m\u001b[0m\u001b[0;34m\u001b[0m\u001b[0m\n\u001b[0;32m--> 327\u001b[0;31m                 \u001b[0mwaiter\u001b[0m\u001b[0;34m.\u001b[0m\u001b[0macquire\u001b[0m\u001b[0;34m(\u001b[0m\u001b[0;34m)\u001b[0m\u001b[0;34m\u001b[0m\u001b[0;34m\u001b[0m\u001b[0m\n\u001b[0m\u001b[1;32m    328\u001b[0m                 \u001b[0mgotit\u001b[0m \u001b[0;34m=\u001b[0m \u001b[0;32mTrue\u001b[0m\u001b[0;34m\u001b[0m\u001b[0;34m\u001b[0m\u001b[0m\n\u001b[1;32m    329\u001b[0m             \u001b[0;32melse\u001b[0m\u001b[0;34m:\u001b[0m\u001b[0;34m\u001b[0m\u001b[0;34m\u001b[0m\u001b[0m\n",
            "\u001b[0;31mKeyboardInterrupt\u001b[0m: "
          ]
        }
      ]
    }
  ]
}